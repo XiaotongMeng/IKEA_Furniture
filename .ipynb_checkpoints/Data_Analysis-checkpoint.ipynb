{
 "cells": [
  {
   "cell_type": "markdown",
   "metadata": {},
   "source": [
    "# Data Analysis"
   ]
  },
  {
   "cell_type": "markdown",
   "metadata": {},
   "source": [
    "## Outline"
   ]
  },
  {
   "cell_type": "markdown",
   "metadata": {},
   "source": [
    "- [Data Visualization](#Data-Visualization)\n",
    "- [Targets and Features](#Targets-and-Features)\n",
    "    - [item_id](#item_id)\n",
    "    - [name](#name)\n",
    "    - [category](#category)\n",
    "    - [price](#price)\n",
    "    - [old-price](#old_price)\n",
    "    - [sellable online](#sellable_online)\n",
    "    - [other colors](#other_colors)\n",
    "    - [designer](#designer)\n",
    "    - [height,width,depth](#hight,-width,-depth)\n",
    "    - [link, short_description](#link,-short_description)\n",
    "- [Correlation](#Correlation)\n",
    "- [Data Cleaning](#Data-Cleaning)\n",
    "    - [NaN in size data](#NaN-in-size-data)\n",
    "- [Save final Dataframe](#Save-final-Dataframe)"
   ]
  },
  {
   "cell_type": "markdown",
   "metadata": {},
   "source": [
    "## Data Visualization"
   ]
  },
  {
   "cell_type": "code",
   "execution_count": null,
   "metadata": {
    "scrolled": true
   },
   "outputs": [],
   "source": [
    "import pandas as pd\n",
    "import numpy as np\n",
    "import pickle\n",
    "from matplotlib import pyplot as plt\n",
    "import seaborn as sns\n",
    "sns.set(style=\"white\")\n",
    "\n",
    "\n",
    "%matplotlib inline\n",
    "plt.style.use('ggplot') # emulate pretty r-style plots"
   ]
  },
  {
   "cell_type": "code",
   "execution_count": null,
   "metadata": {
    "scrolled": false
   },
   "outputs": [],
   "source": [
    "#read the data and delete the index of entry\n",
    "IKEA_df = pd.read_csv('Data/IKEA_SA_Furniture_Web_Scrapings_sss.csv')\n",
    "IKEA_df = IKEA_df.drop(IKEA_df.columns[0],axis =1)"
   ]
  },
  {
   "cell_type": "code",
   "execution_count": null,
   "metadata": {
    "scrolled": false
   },
   "outputs": [],
   "source": [
    "IKEA_df.head(2)"
   ]
  },
  {
   "cell_type": "code",
   "execution_count": 62,
   "metadata": {
    "scrolled": true
   },
   "outputs": [
    {
     "name": "stdout",
     "output_type": "stream",
     "text": [
      "We have 3694 sample sand 12 features together with the target category\n"
     ]
    }
   ],
   "source": [
    "m = IKEA_df.shape[0]\n",
    "n = IKEA_df.shape[1]\n",
    "print('We have '+str(m)+' sample sand '+str(n-1)+' features together with the target category')"
   ]
  },
  {
   "cell_type": "markdown",
   "metadata": {},
   "source": [
    "data type of 12 features together with target category are shown as follows:"
   ]
  },
  {
   "cell_type": "code",
   "execution_count": null,
   "metadata": {
    "scrolled": false
   },
   "outputs": [],
   "source": [
    "# data type  \n",
    "IKEA_df.dtypes"
   ]
  },
  {
   "cell_type": "markdown",
   "metadata": {},
   "source": [
    "We can see that some data is missing in feature depth, height and width "
   ]
  },
  {
   "cell_type": "code",
   "execution_count": null,
   "metadata": {
    "scrolled": true
   },
   "outputs": [],
   "source": [
    "IKEA_df.count() \n",
    "\n",
    "# wouldn't it be prettier if we only print the features for which that is the case instead of all of them?\n",
    "# simply a suggestion...\n",
    "\n",
    "max_count = max(IKEA_df.count())\n",
    "\n",
    "missing_data = []\n",
    "for i in range(len(IKEA_df.count())):\n",
    "        if IKEA_df.count()[i] < max_count:\n",
    "            missing_data.append(i)\n",
    "            \n",
    "IKEA_df.count()[missing_data]"
   ]
  },
  {
   "cell_type": "markdown",
   "metadata": {},
   "source": [
    "## Target and features\n",
    "Now we start to examine the properties of data for each features, which help us better understand the dataset and gives us an ideas of how to clean the dataset."
   ]
  },
  {
   "cell_type": "markdown",
   "metadata": {},
   "source": [
    "### item_id"
   ]
  },
  {
   "cell_type": "code",
   "execution_count": null,
   "metadata": {
    "scrolled": true
   },
   "outputs": [],
   "source": [
    "ax0 = IKEA_df.boxplot(column='item_id',by='category',vert=False, figsize=(10,6), fontsize =14,showmeans =True)\n",
    "ax0.set_xlabel('')\n",
    "ax0.figure.savefig('Figures/Data_Analysis/item_id_boxplot.png',bbox_inches = 'tight')"
   ]
  },
  {
   "cell_type": "code",
   "execution_count": null,
   "metadata": {
    "scrolled": false
   },
   "outputs": [],
   "source": [
    "nun_id =  IKEA_df['item_id'].nunique()\n",
    "print('There are ' + str(nun_id)+' unique item_ids.')\n",
    "if nun_id <  m:\n",
    "    print('item_id is not unique for samples, some samples share same id or might be same one.')"
   ]
  },
  {
   "cell_type": "markdown",
   "metadata": {},
   "source": [
    "The item_id is a number consisting of 5 to 8 digits. In the boxplot above we can see, that approximately 50% of the items of most categories are taking a value between 2e^7 to 7e^7. This means that item_id might does not give strong evidence of category.   "
   ]
  },
  {
   "cell_type": "markdown",
   "metadata": {},
   "source": [
    "### name"
   ]
  },
  {
   "cell_type": "code",
   "execution_count": null,
   "metadata": {
    "scrolled": true
   },
   "outputs": [],
   "source": [
    "nun =  IKEA_df['name'].nunique()\n",
    "#print(IKEA_df['category'].unique())\n",
    "print('There are ' + str(nun) + ' unique name in total' )"
   ]
  },
  {
   "cell_type": "code",
   "execution_count": null,
   "metadata": {},
   "outputs": [],
   "source": [
    "name_df =  IKEA_df.groupby('category').agg({'name':'nunique', 'category':'size'})\n",
    "name_df.columns=['n_uname','size']"
   ]
  },
  {
   "cell_type": "code",
   "execution_count": null,
   "metadata": {},
   "outputs": [],
   "source": [
    "name_df['%'] = name_df['n_uname']/ name_df['size']\n",
    "name_df.sort_values(['%'], ascending=False)"
   ]
  },
  {
   "cell_type": "markdown",
   "metadata": {},
   "source": [
    "Generally speaking, feature **name** can help determine the catogory. For Trolleys it might not work properlly, since 70% data samples have different  **name**. One the other hand, name might play an very important role for prediction on Sofas & armchairs, scine only 97% of the samples do not have the unique **name**."
   ]
  },
  {
   "cell_type": "markdown",
   "metadata": {},
   "source": [
    "### category"
   ]
  },
  {
   "cell_type": "code",
   "execution_count": null,
   "metadata": {
    "scrolled": true
   },
   "outputs": [],
   "source": [
    "nun =  IKEA_df['category'].nunique()\n",
    "#print(IKEA_df['category'].unique())\n",
    "print('There are ' + str(nun) + ' categories in total' )"
   ]
  },
  {
   "cell_type": "code",
   "execution_count": null,
   "metadata": {
    "scrolled": false
   },
   "outputs": [],
   "source": [
    "type_df = IKEA_df.groupby('category').size().reset_index(name='size').sort_values(['size'], ascending=False) \n",
    "type_df"
   ]
  },
  {
   "cell_type": "code",
   "execution_count": null,
   "metadata": {
    "scrolled": true
   },
   "outputs": [],
   "source": [
    "ax1 = type_df.set_index('category').plot.barh(rot=0, title='Category distribution',color = 'b',figsize=(10,6), fontsize=14)\n",
    "ax1.set_xlabel(\"Number of Samples\")\n",
    "ax1.set_ylabel('')\n",
    "ax1.figure.savefig('Figures/Data_Analysis/category_distribution.png',bbox_inches = 'tight')\n"
   ]
  },
  {
   "cell_type": "code",
   "execution_count": null,
   "metadata": {
    "scrolled": true
   },
   "outputs": [],
   "source": [
    "ax = type_df.set_index('category').plot.pie(title='Category distribution', y='size',figsize=(10,10), autopct='%1.1f%%',fontsize=12)\n",
    "ax.set_ylabel('')\n",
    "ax.legend(bbox_to_anchor=(2,0.5), loc=\"right\", fontsize=12)\n",
    "ax.figure.savefig('Figures/Data_Analysis/category_plotpie.png',bbox_inches = 'tight')"
   ]
  },
  {
   "cell_type": "markdown",
   "metadata": {},
   "source": [
    "From the graph we can observe that more than 16% of the data samples are from the category Tables & desks, followed by Bookcase & sheiving units with approx. 15% and Chairs with approx. 13%. On the other hand, samples of category Room dividers, Sideboards, buffets & console tables, Cafe furniture and Trolleys acount for less than 1%. From this we can conclude, that the classification task itself is quite imbalanced. Hence, it might be necessary to replicate samples of the categories, of which the sample size is extremely small.  "
   ]
  },
  {
   "cell_type": "markdown",
   "metadata": {},
   "source": [
    "### price"
   ]
  },
  {
   "cell_type": "code",
   "execution_count": null,
   "metadata": {
    "scrolled": true
   },
   "outputs": [],
   "source": [
    "ax2 = IKEA_df.boxplot(column='price',by='category',vert=False, figsize=(12,6), fontsize =14,showmeans =True)\n",
    "ax2.set_xlabel('Euro')\n",
    "ax2.figure.savefig('Figures/Data_Analysis/price_boxplot.png',bbox_inches = 'tight')"
   ]
  },
  {
   "cell_type": "markdown",
   "metadata": {},
   "source": [
    "As shown above in the boxplot of price, the furniture of the category Wardrobes are the most expensive, while the children's furnitures are the cheapest. Sofa & armchairshas has the biggest range in price from about 250€ to 70.000€ while the ourliers can reach up to 90.000€. Cafe furniture has the most stable price. The price area (Interquartile Range of price) of some categories do overlap, but in general it is fair to say that price can be a useful feature in order determine the category."
   ]
  },
  {
   "cell_type": "markdown",
   "metadata": {},
   "source": [
    "### old_price"
   ]
  },
  {
   "cell_type": "code",
   "execution_count": null,
   "metadata": {
    "scrolled": true
   },
   "outputs": [],
   "source": [
    "t = IKEA_df[IKEA_df['old_price'].str.contains('No old price')]['item_id'].count() /m\n",
    "print( str( round(t,4)*100) + '% of feature old_price is no old price' )"
   ]
  },
  {
   "cell_type": "markdown",
   "metadata": {},
   "source": [
    "Furthermore, it is  impossible to recover this data. It follows, that the feature old_price might not be helpful in order to determine the category. Therefore, it can be ignored for training. "
   ]
  },
  {
   "cell_type": "markdown",
   "metadata": {},
   "source": [
    "### sellable_online"
   ]
  },
  {
   "cell_type": "code",
   "execution_count": null,
   "metadata": {},
   "outputs": [],
   "source": [
    "t = IKEA_df[IKEA_df['sellable_online'] == True]['item_id'].count()/m\n",
    "print( str( round(t,4)*100) + '% of feature sellable_online is True' )\n"
   ]
  },
  {
   "cell_type": "markdown",
   "metadata": {},
   "source": [
    "This indicates, that this feature cannot help to determine the category and therefore can be deleted for training."
   ]
  },
  {
   "cell_type": "markdown",
   "metadata": {},
   "source": [
    "### other_colors"
   ]
  },
  {
   "cell_type": "code",
   "execution_count": null,
   "metadata": {
    "scrolled": true
   },
   "outputs": [],
   "source": [
    "t = IKEA_df[IKEA_df['other_colors'].str.contains('Yes')]['item_id'].count()/m\n",
    "print( str( round(t,4)*100) + '% of feature other_colors is Yes.' )\n"
   ]
  },
  {
   "cell_type": "markdown",
   "metadata": {},
   "source": [
    "### designer"
   ]
  },
  {
   "cell_type": "code",
   "execution_count": null,
   "metadata": {},
   "outputs": [],
   "source": [
    "nun_designer =  IKEA_df['designer'].nunique()\n",
    "#print(IKEA_df['designer'].unique())\n",
    "print('There are ' + str(nun_designer) + ' different designers in total' )"
   ]
  },
  {
   "cell_type": "code",
   "execution_count": null,
   "metadata": {
    "scrolled": true
   },
   "outputs": [],
   "source": [
    "designer_df = IKEA_df.groupby('designer').size().reset_index(name='count').sort_values(['count'], ascending=False)\n",
    "designer_df['count%'] = round(designer_df['count'] *100/m ,2) "
   ]
  },
  {
   "cell_type": "code",
   "execution_count": null,
   "metadata": {
    "scrolled": false
   },
   "outputs": [],
   "source": [
    "designer_df.head(5)"
   ]
  },
  {
   "cell_type": "raw",
   "metadata": {},
   "source": [
    "The Table above shows that 22% of the item samples are not designed by a sepecific designer. The designer which designs most items is Ehlén Johanssons. However the designer Ehlén Johanssons only acount for about 4% in dataset."
   ]
  },
  {
   "cell_type": "code",
   "execution_count": null,
   "metadata": {
    "scrolled": true
   },
   "outputs": [],
   "source": [
    "t = designer_df[designer_df['count']< 2].shape[0]\n",
    "print(str(t)+ ' of ' + str(nun_designer)+'designers design just 1 items in dataset')"
   ]
  },
  {
   "cell_type": "code",
   "execution_count": null,
   "metadata": {},
   "outputs": [],
   "source": [
    "t = designer_df[designer_df['count']< 5].shape[0]\n",
    "print(str(t)+ ' of ' + str(nun_designer)+' designers design less than 5 items in dataset')"
   ]
  },
  {
   "cell_type": "code",
   "execution_count": null,
   "metadata": {
    "scrolled": false
   },
   "outputs": [],
   "source": [
    "t  = designer_df[designer_df['count']< 10].shape[0]\n",
    "print(str(t)+ ' of ' + str(nun_designer)+' designers design less than 10 items in dataset')"
   ]
  },
  {
   "cell_type": "code",
   "execution_count": null,
   "metadata": {
    "scrolled": true
   },
   "outputs": [],
   "source": [
    "IKEA_df['designer_len'] = IKEA_df['designer'].str.len() \n",
    "IKEA_df['designer_len'].describe()"
   ]
  },
  {
   "cell_type": "code",
   "execution_count": null,
   "metadata": {
    "scrolled": false
   },
   "outputs": [],
   "source": [
    "t = IKEA_df[IKEA_df['designer_len'] > 40].shape[0] \n",
    "print(str( round(t*100/m,2)) +'% samples have actually text of long description in feature designer' )"
   ]
  },
  {
   "cell_type": "markdown",
   "metadata": {},
   "source": [
    "We find that some entries in desinger is actually a more detailed description of the furniture itself. We could replace them with \"designer unknowm\", however,  this might be misleading to the algorithm as it could be understood as if the furniture was designed by the same person when instead the designer is not known. \n",
    "Moreover we observe that furniture of the same category might have the same text with a long description for the feature **designer**. Considering those mistakes acount for 7% of the whole dataset, we can also just keep the original ones."
   ]
  },
  {
   "cell_type": "code",
   "execution_count": null,
   "metadata": {
    "scrolled": true
   },
   "outputs": [],
   "source": [
    "IKEA_df[IKEA_df['designer_len'] > 40].head(2)"
   ]
  },
  {
   "cell_type": "markdown",
   "metadata": {},
   "source": [
    "We now examine the favorite furniture category of the TOP3 designers:\n",
    "1. IKEA of Schweden (22.41%)\n",
    "2. Ehlén Johansson (4.36%)\n",
    "3. Francis Cayouette (4.09%)"
   ]
  },
  {
   "cell_type": "code",
   "execution_count": null,
   "metadata": {
    "scrolled": true
   },
   "outputs": [],
   "source": [
    "df1 = IKEA_df[IKEA_df['designer'].str.contains('IKEA of Sweden')].groupby('category')['item_id'].count() \\\n",
    "                                    .reset_index(name = 'count')\n",
    "axd1 = df1.set_index('category').plot.pie(title='IKEA of Sweden\\'s favor of furniture category', y='count',figsize=(10,10), \\\n",
    "                                          autopct='%1.1f%%', fontsize=12, legend = None)\n",
    "axd1.set_ylabel('')\n",
    "#axd1.legend(bbox_to_anchor=(1.5,0.5), loc=\"right\", fontsize=12)\n",
    "axd1.figure.savefig('Figures/Data_Analysis/TOP1_designer.png',bbox_inches = 'tight')"
   ]
  },
  {
   "cell_type": "markdown",
   "metadata": {},
   "source": [
    "IKEA of Sweden covers all 17  furniture catogeries and favor the Bookcases & shelving units."
   ]
  },
  {
   "cell_type": "code",
   "execution_count": null,
   "metadata": {
    "scrolled": true
   },
   "outputs": [],
   "source": [
    "df2 = IKEA_df[IKEA_df['designer'].str.contains('Ehlén Johansson')].groupby('category')['item_id'].count() \\\n",
    "                                    .reset_index(name = 'count')\n",
    "axd2 = df2.set_index('category').plot.pie(title='Ehlén Johansson\\'s favor of furniture category', y='count',figsize=(10,10), \\\n",
    "                                          autopct='%1.1f%%', fontsize=12, legend = None)\n",
    "axd2.set_ylabel('')\n",
    "#axd2.legend(bbox_to_anchor=(1.5,0.5), loc=\"right\", fontsize=12)\n",
    "axd2.figure.savefig('Figures/Data_Analysis/TOP2_designer.png',bbox_inches = 'tight')"
   ]
  },
  {
   "cell_type": "code",
   "execution_count": null,
   "metadata": {
    "scrolled": true
   },
   "outputs": [],
   "source": [
    "t1 = IKEA_df[IKEA_df['category'].str.contains('Wardrobes')]['item_id'].count() \n",
    "t2 = IKEA_df[IKEA_df['category'].str.contains('Wardrobes') & IKEA_df['designer'].str.contains('Ehlén Johansson')]['item_id'].count() \n",
    "print(round(t2/t1, 4))"
   ]
  },
  {
   "cell_type": "markdown",
   "metadata": {},
   "source": [
    "Designer Ehlén Johansson favors Wardrobes. And indeed, about 73% items of category Wardrobes are designed by Ehlén Johansson (including the cases IKEA of Sweden/Ehlén Johansson and Ehlén Johansson/IKEA of Sweden)."
   ]
  },
  {
   "cell_type": "code",
   "execution_count": null,
   "metadata": {
    "scrolled": true
   },
   "outputs": [],
   "source": [
    "df3 = IKEA_df[IKEA_df['designer'].str.contains('Francis Cayouette')].groupby('category')['item_id'].count() \\\n",
    "                                    .reset_index(name = 'count')\n",
    "axd3 = df3.set_index('category').plot.pie(title='Francis Cayouette\\'s favor of furniture category', y='count',figsize=(10,10),\\\n",
    "                                          autopct='%1.1f%%', fontsize=12, legend = None)\n",
    "axd3.set_ylabel('')\n",
    "#axd3.legend(bbox_to_anchor=(1.5,0.5), loc=\"right\", fontsize=12)\n",
    "axd3.figure.savefig('Figures/Data_Analysis/TOP3_designer.png',bbox_inches = 'tight')"
   ]
  },
  {
   "cell_type": "code",
   "execution_count": null,
   "metadata": {},
   "outputs": [],
   "source": [
    "t1 = IKEA_df[IKEA_df['category'].str.contains('Sofas & armchairs')]['item_id'].count() \n",
    "t2 = IKEA_df[IKEA_df['category'].str.contains('Sofas & armchairs') & IKEA_df['designer'].str.contains('Francis Cayouette')]['item_id'].count() \n",
    "print(round(t2/t1, 4))"
   ]
  },
  {
   "cell_type": "markdown",
   "metadata": {},
   "source": [
    "Designer Francis Cayouette favors Sofas & armchairs. In total, around 17% items of category Sofas & armchairs are designed by Francis Cayouette."
   ]
  },
  {
   "cell_type": "markdown",
   "metadata": {},
   "source": [
    "### depth, height, width"
   ]
  },
  {
   "cell_type": "code",
   "execution_count": null,
   "metadata": {
    "scrolled": true
   },
   "outputs": [],
   "source": [
    "ax3 = IKEA_df.boxplot(column='depth',by='category',vert=False, figsize=(10,6), fontsize =14,showmeans =True)\n",
    "ax3.set_xlabel('cm')\n",
    "ax3.figure.savefig('Figures/Data_Analysis/depth_boxplot.png',bbox_inches = 'tight')"
   ]
  },
  {
   "cell_type": "code",
   "execution_count": null,
   "metadata": {
    "scrolled": false
   },
   "outputs": [],
   "source": [
    "ax4 = IKEA_df.boxplot(column='height',by='category',vert=False, figsize=(10,6), fontsize =14,showmeans =True)\n",
    "ax4.set_xlabel('cm')\n",
    "ax4.figure.savefig('Figures/Data_Analysis/height_boxplot.png',bbox_inches = 'tight')\n"
   ]
  },
  {
   "cell_type": "code",
   "execution_count": null,
   "metadata": {
    "scrolled": true
   },
   "outputs": [],
   "source": [
    "ax5 = IKEA_df.boxplot(column='width',by='category',vert=False, figsize=(10,6), fontsize =14,showmeans =True)\n",
    "ax5.set_xlabel('cm')\n",
    "ax5.figure.savefig('Figures/Data_Analysis/width_boxplot.png',bbox_inches = 'tight')\n"
   ]
  },
  {
   "cell_type": "markdown",
   "metadata": {},
   "source": [
    "Generally, the feature of size varies a lot for the different categories. This is the case in particular for the feature **depth**. Hence, the feature of size might play an important role in prediction of category. "
   ]
  },
  {
   "cell_type": "markdown",
   "metadata": {},
   "source": [
    "### link, short_description\n",
    "Feature **link** and **short_desctiption** can be understood literally. Both feature **link** and **short_description** are different for the individual items and uncorrelated to the category. Therefore, **link** and **short_description** will be ignored for the training. However, it should not go unnoted that short description contains size data,  which are not scrapped correctly as feature **depth,height,width**. We can make use of this and recover the NaN in **depth,height,width**. Unfortunately, in most cases this is technically too compilicated. Furthermore, both feature **link** and **short_description** contain key words, which indicate  its category directly. It might be kind of cheating to make use of that, while at the same time it would be extremely difficult to do so."
   ]
  },
  {
   "cell_type": "markdown",
   "metadata": {},
   "source": [
    "## Correlation\n",
    "We would like to check the colinerity of numerical (including boolean) features. We can encode the nominal features to integer values by using factorization. Although, this could be misleadings in some way, at this point we just want to have an idea of the correlation between features. In case of training an algorithm that does not understand nominal features, we might use the one-hot encoding to avoid misunderstandings caused by numeric values. However, this leads to quite high computational cost. For example, for 370 different designers, one-hot encoding will create 9 more features, respectively, taking value 0/1 to present the feature designer."
   ]
  },
  {
   "cell_type": "code",
   "execution_count": null,
   "metadata": {},
   "outputs": [],
   "source": [
    "corr_df = IKEA_df.copy()"
   ]
  },
  {
   "cell_type": "code",
   "execution_count": null,
   "metadata": {},
   "outputs": [],
   "source": [
    "corr_df['category'] = pd.factorize(corr_df['category'])[0] + 1\n",
    "corr_df['name'] = pd.factorize(corr_df['name'])[0] + 1\n",
    "corr_df['sellable_online'] = pd.factorize(corr_df['sellable_online'])[0] + 1\n",
    "corr_df['other_colors'] = pd.factorize(corr_df['other_colors'])[0] + 1\n",
    "corr_df['designer'] = pd.factorize(corr_df['designer'])[0] + 1"
   ]
  },
  {
   "cell_type": "code",
   "execution_count": null,
   "metadata": {},
   "outputs": [],
   "source": [
    "# correlation / scatter matrix here\n",
    "corr = corr_df.corr()\n",
    "\n",
    "# Generate a mask for the upper triangle\n",
    "mask = np.triu(np.ones_like(corr, dtype=np.bool))\n",
    "\n",
    "# Set up the matplotlib figure\n",
    "f, ax = plt.subplots(figsize=(10, 6))\n",
    "\n",
    "# Generate a custom diverging colormap\n",
    "cmap = sns.diverging_palette(220, 10, as_cmap=True)\n",
    "\n",
    "# Draw the heatmap with the mask and correct aspect ratio\n",
    "sns.heatmap(corr, mask=mask, cmap=cmap, vmax=.3, center=0,\n",
    "            square=True, linewidths=.5, cbar_kws={\"shrink\": .5})\n",
    "ax.set_title('Correlation between features')\n",
    "ax.figure.savefig('Figures/Data_Analysis/corr.png',bbox_inches = 'tight')"
   ]
  },
  {
   "cell_type": "markdown",
   "metadata": {},
   "source": [
    "As shown in the analysis of the individual features above, **depth** and **price** play the relative more important role in determining the **category**, while **sellable_online** and **other_colors** is less correlated to **category**. \n",
    "The price of the items is relative high correlated with depth of items and the name of items is relative high correlated with designer, indicating the colinearity of the features, which might result in bad prediciton in certain algorithms. Anyways, the correlation between features (including the target category) are not at on a high level as all of them are below 0.3."
   ]
  },
  {
   "cell_type": "markdown",
   "metadata": {},
   "source": [
    "## Data Cleaning"
   ]
  },
  {
   "cell_type": "code",
   "execution_count": null,
   "metadata": {},
   "outputs": [],
   "source": [
    "#convert object to boolean\n",
    "IKEA_df['other_colors'] = IKEA_df['other_colors'].map({'Yes': True, 'No': False})"
   ]
  },
  {
   "cell_type": "code",
   "execution_count": null,
   "metadata": {
    "scrolled": false
   },
   "outputs": [],
   "source": [
    "IKEA_df[IKEA_df['designer'].str.contains('IKEA of Sweden/Ehlén Johansson')].shape"
   ]
  },
  {
   "cell_type": "code",
   "execution_count": null,
   "metadata": {
    "scrolled": false
   },
   "outputs": [],
   "source": [
    "IKEA_df[IKEA_df['designer'].str.contains('Ehlén Johansson/IKEA of Sweden')].shape"
   ]
  },
  {
   "cell_type": "code",
   "execution_count": null,
   "metadata": {
    "scrolled": false
   },
   "outputs": [],
   "source": [
    "# merging 'IKEA of Sweden/Ehlén Johansson' and 'Ehlén Johansson/IKEA of Sweden'\n",
    "# we noticed when the designers that this is one and the same designer\n",
    "IKEA_df['designer']= np.where(IKEA_df['designer'].str.contains('IKEA of Sweden/Ehlén Johansson'),  'Ehlén Johansson/IKEA of Sweden', IKEA_df.designer)\n"
   ]
  },
  {
   "cell_type": "markdown",
   "metadata": {},
   "source": [
    "The following will let us make the conclusion, that any 'NaN' is in the row containing the data concerning regarding the item-size:"
   ]
  },
  {
   "cell_type": "code",
   "execution_count": null,
   "metadata": {
    "scrolled": false
   },
   "outputs": [],
   "source": [
    "# determine where data is missing (cell is NaN)\n",
    "shape_NaN = IKEA_df[IKEA_df.isnull().any(axis=1)].shape \n",
    "IKEA_df[IKEA_df.isnull().any(axis=1)].head(4)"
   ]
  },
  {
   "cell_type": "markdown",
   "metadata": {},
   "source": [
    "It seems like the data is only missing regarding item-size (depth, height, width). Let's check if that is the case:"
   ]
  },
  {
   "cell_type": "code",
   "execution_count": null,
   "metadata": {
    "scrolled": true
   },
   "outputs": [],
   "source": [
    "size = ['depth','height','width'] \n",
    "shape_size = IKEA_df[IKEA_df[size].isnull().any(axis=1)].shape \n",
    "if shape_size == shape_NaN:\n",
    "    print('The assumption from above seems to be correct. The only data missing is regarding the item-size')"
   ]
  },
  {
   "cell_type": "code",
   "execution_count": null,
   "metadata": {
    "scrolled": true
   },
   "outputs": [],
   "source": [
    "IKEA_df[IKEA_df[IKEA_df.columns[~IKEA_df.columns.isin(size)]].isnull().any(axis=1)].shape"
   ]
  },
  {
   "cell_type": "code",
   "execution_count": null,
   "metadata": {
    "scrolled": false
   },
   "outputs": [],
   "source": [
    "IKEA_df[IKEA_df[size].isnull().all(axis=1)].head(4)"
   ]
  },
  {
   "cell_type": "markdown",
   "metadata": {},
   "source": [
    "### NaN in size data"
   ]
  },
  {
   "cell_type": "markdown",
   "metadata": {},
   "source": [
    "According to the observations made by comparing the given dataset to the product size shown on the website, we came to the conclusion, that there are several main reasons as to why data of the category size is missing \\.\n",
    "First of, it seems that some data is not successfully scraped from the website and not recorded in the short description either making it is impossible to recover the missing data. \\\n",
    "Second, some items represent a set of different furniture. Therefore there is no product size in that sense. \\\n",
    "Third, some items have variable size, for example, an items width width can vary from 190 cm up to 220 cm. Although some data is recorded in the short description, it is very difficult to extract the exact size for all items. The biggest problem is that it cannot be identified what numbers respond to depth, height and width, especially since that data in the short description often is incomplete.\\\n",
    "Last of, there are some small items where the measurements ar taken in milimeters instead of centimeter. Furthermore, for some items a item-diameter was recorded in the short descritpion instead of the item-height.\n"
   ]
  },
  {
   "cell_type": "code",
   "execution_count": null,
   "metadata": {},
   "outputs": [],
   "source": [
    "#split description and size data in feature short description\n",
    "IKEA_df['size']= IKEA_df['short_description'].str.rsplit(',', n=1).str[1]\n",
    "IKEA_df['short_description']= IKEA_df['short_description'].str.rsplit(',', n=1).str[0]"
   ]
  },
  {
   "cell_type": "code",
   "execution_count": null,
   "metadata": {},
   "outputs": [],
   "source": [
    "#split numbers and unit\n",
    "IKEA_df['unit'] = IKEA_df['size'].str.replace('\\d+|-|x', ' ')\n",
    "IKEA_df['size_nounit'] = IKEA_df['size'].str.replace('cm|mm', '')"
   ]
  },
  {
   "cell_type": "markdown",
   "metadata": {},
   "source": [
    "The following shows that indeed, **height** is not given for the small items. Thus, in this case it is convenient to extract the diameter from the short description representing the diameter and replacing the NaN in height with the recorded data from **short description**. Additionally, we find, that ccording to the link the size-data for small items, of which the diameter is measured with mm, is actually mm as well. Therefore this is corrected in the following.  "
   ]
  },
  {
   "cell_type": "code",
   "execution_count": null,
   "metadata": {},
   "outputs": [],
   "source": [
    "IKEA_df[IKEA_df['unit'].str.contains('mm') & IKEA_df[size].isnull().any(axis=1)].shape"
   ]
  },
  {
   "cell_type": "code",
   "execution_count": null,
   "metadata": {},
   "outputs": [],
   "source": [
    "IKEA_df[IKEA_df['unit'].str.contains('mm') & IKEA_df['height'].isnull()].shape"
   ]
  },
  {
   "cell_type": "code",
   "execution_count": null,
   "metadata": {},
   "outputs": [],
   "source": [
    "IKEA_df['height'] = np.where(IKEA_df['unit'].str.contains('mm') , IKEA_df.size_nounit, IKEA_df.height)\n",
    "IKEA_df['height'] = np.where(IKEA_df['unit'].str.contains('mm'), IKEA_df.height.astype(float)/10, IKEA_df.height)\n",
    "IKEA_df['height'] = IKEA_df['height'].astype(float)"
   ]
  },
  {
   "cell_type": "code",
   "execution_count": null,
   "metadata": {
    "scrolled": true
   },
   "outputs": [],
   "source": [
    "IKEA_df['depth'] = np.where(IKEA_df['unit'].str.contains('mm'), IKEA_df.depth.astype(float)/10, IKEA_df.depth)\n",
    "IKEA_df['width'] = np.where(IKEA_df['unit'].str.contains('mm'), IKEA_df.width.astype(float)/10, IKEA_df.width)"
   ]
  },
  {
   "cell_type": "markdown",
   "metadata": {},
   "source": [
    "For simplicity, the NaN-cells in size-data is filled with either the mean or the median depending on the category and wether there are many outliers in size data (refer to the boxplot earlier). In case there are many outliers resulting in the mean beeing significantly higher than the median, the NaN-cells are filled with the median."
   ]
  },
  {
   "cell_type": "code",
   "execution_count": null,
   "metadata": {
    "scrolled": true
   },
   "outputs": [],
   "source": [
    "#calculate median/mean of items of each furniture category \n",
    "dm =IKEA_df.groupby('category')['depth'].median().reset_index(name = 'depth_median')\n",
    "dd = IKEA_df.groupby('category')['depth'].mean().reset_index(name = 'depth_mean')\n",
    "hm = IKEA_df.groupby('category')['height'].mean().reset_index(name = 'height_mean')\n",
    "hd = IKEA_df.groupby('category')['height'].median().reset_index(name = 'height_median')\n",
    "wm= IKEA_df.groupby('category')['width'].median().reset_index(name = 'width_median')\n",
    "wd =IKEA_df.groupby('category')['width'].mean().reset_index(name = 'width_mean')"
   ]
  },
  {
   "cell_type": "code",
   "execution_count": null,
   "metadata": {},
   "outputs": [],
   "source": [
    "IKEA_df = IKEA_df.join(dm.set_index('category'), on='category')\n",
    "IKEA_df = IKEA_df.join(dd.set_index('category'), on='category')\n",
    "IKEA_df = IKEA_df.join(hm.set_index('category'), on='category')\n",
    "IKEA_df = IKEA_df.join(hd.set_index('category'), on='category')\n",
    "IKEA_df = IKEA_df.join(wm.set_index('category'), on='category')\n",
    "IKEA_df = IKEA_df.join(wd.set_index('category'), on='category')"
   ]
  },
  {
   "cell_type": "code",
   "execution_count": null,
   "metadata": {
    "scrolled": true
   },
   "outputs": [],
   "source": [
    "IKEA_df['depth'] = np.where( (IKEA_df['depth'].isnull()) & (IKEA_df['category'].str.contains('Tables & desks')),  \\\n",
    "                              IKEA_df.depth_median, IKEA_df.depth )\n",
    "IKEA_df['depth'] = np.where( (IKEA_df['depth'].isnull()) & (IKEA_df['category'].str.contains('Sofas & armchairs')),  \\\n",
    "                              IKEA_df.depth_median, IKEA_df.depth )        \n",
    "IKEA_df['depth'] = np.where( (IKEA_df['depth'].isnull()) & (IKEA_df['category'].str.contains('Chairs')),  \\\n",
    "                              IKEA_df.depth_median, IKEA_df.depth )"
   ]
  },
  {
   "cell_type": "code",
   "execution_count": null,
   "metadata": {},
   "outputs": [],
   "source": [
    "IKEA_df['height'] = np.where( (IKEA_df['height'].isnull()) & (IKEA_df['category'].str.contains('TV & median furniture')),  \\\n",
    "                              IKEA_df.height_median, IKEA_df.height )\n",
    "IKEA_df['height'] = np.where( (IKEA_df['height'].isnull()) & (IKEA_df['category'].str.contains('Sideboards, buffets,console tables')),  \\\n",
    "                              IKEA_df.height_median, IKEA_df.height )"
   ]
  },
  {
   "cell_type": "code",
   "execution_count": null,
   "metadata": {},
   "outputs": [],
   "source": [
    "IKEA_df['width'] = np.where((IKEA_df['width'].isnull()) & (IKEA_df['category'].str.contains('Wardrobes')),  \\\n",
    "                            IKEA_df.width_median, IKEA_df.width)\n",
    "IKEA_df['width'] = np.where((IKEA_df['width'].isnull()) & (IKEA_df['category'].str.contains('Outdoor furniture')),  \\\n",
    "                            IKEA_df.width_median, IKEA_df.width)\n",
    "IKEA_df['width'] = np.where((IKEA_df['width'].isnull()) & (IKEA_df['category'].str.contains('Carbinets & cupboards')),  \\\n",
    "                            IKEA_df.width_median, IKEA_df.width)\n",
    "IKEA_df['width'] = np.where((IKEA_df['width'].isnull()) & (IKEA_df['category'].str.contains('Bookcases & shelving units')),  \\\n",
    "                            IKEA_df.width_median, IKEA_df.width)"
   ]
  },
  {
   "cell_type": "code",
   "execution_count": null,
   "metadata": {
    "scrolled": true
   },
   "outputs": [],
   "source": [
    "IKEA_df['depth'] = np.where(IKEA_df['depth'].isnull(), IKEA_df.depth_mean, IKEA_df.depth)\n",
    "IKEA_df['height'] = np.where(IKEA_df['height'].isnull(), IKEA_df.height_mean, IKEA_df.height)\n",
    "IKEA_df['width'] = np.where(IKEA_df['width'].isnull(), IKEA_df.width_mean, IKEA_df.width)"
   ]
  },
  {
   "cell_type": "markdown",
   "metadata": {},
   "source": [
    "## Prediction with tree-based algorithm \n",
    "Tree-based algorithms do not work on calculating distance. Therefore it is sufficient to factorize the categorical features."
   ]
  },
  {
   "cell_type": "code",
   "execution_count": null,
   "metadata": {},
   "outputs": [],
   "source": [
    "learn = ['item_id','name','category','price','sellable_online','other_colors','designer','depth','height','width' ]\n",
    "learn_df = IKEA_df [learn]"
   ]
  },
  {
   "cell_type": "code",
   "execution_count": null,
   "metadata": {
    "scrolled": false
   },
   "outputs": [],
   "source": [
    "#check if there are still any NaN-cells in the dataset\n",
    "learn_df[learn_df.isna().any(axis =1)]['item_id'].count()"
   ]
  },
  {
   "cell_type": "code",
   "execution_count": null,
   "metadata": {
    "scrolled": true
   },
   "outputs": [],
   "source": [
    "#this cell gives warning about setting copy. this warining can be ignored in this project\n",
    "#encode nominal feature into numeric ones\n",
    "learn_df['category_num'] = pd.factorize(learn_df['category'])[0] + 1\n",
    "learn_df['name'] = pd.factorize(learn_df['name'])[0] + 1\n",
    "#learn_df['sellable_online'] = pd.factorize(learn_df['sellable_online'])[0] + 1\n",
    "#learn_df['other_colors'] = pd.factorize(learn_df['other_colors'])[0] + 1\n",
    "learn_df['designer'] = pd.factorize(learn_df['designer'])[0] + 1"
   ]
  },
  {
   "cell_type": "code",
   "execution_count": null,
   "metadata": {
    "scrolled": true
   },
   "outputs": [],
   "source": [
    "label = IKEA_df['category'].unique()\n",
    "label = label.tolist()\n",
    "print('labels:', label)"
   ]
  },
  {
   "cell_type": "code",
   "execution_count": null,
   "metadata": {
    "scrolled": true
   },
   "outputs": [],
   "source": [
    "t = learn_df.drop(columns = ['category','category_num']).shape[1]\n",
    "print('There are '+str(t)+' features.')"
   ]
  },
  {
   "cell_type": "markdown",
   "metadata": {},
   "source": [
    "After modifying and cleaning the data frame, it is suitable for tre-based algorithms."
   ]
  },
  {
   "cell_type": "markdown",
   "metadata": {},
   "source": [
    "## Save Dataframes"
   ]
  },
  {
   "cell_type": "code",
   "execution_count": null,
   "metadata": {},
   "outputs": [],
   "source": [
    "# save IKEA_df\n",
    "with open('Data/IKEA_df.p', 'wb') as df:   \n",
    "    pickle.dump(IKEA_df, df)\n",
    "\n",
    "# save learn_df\n",
    "with open('Data/learn_df.p', 'wb') as df:   \n",
    "    pickle.dump(learn_df, df)"
   ]
  }
 ],
 "metadata": {
  "kernelspec": {
   "display_name": "Python 3",
   "language": "python",
   "name": "python3"
  },
  "language_info": {
   "codemirror_mode": {
    "name": "ipython",
    "version": 3
   },
   "file_extension": ".py",
   "mimetype": "text/x-python",
   "name": "python",
   "nbconvert_exporter": "python",
   "pygments_lexer": "ipython3",
   "version": "3.7.4"
  }
 },
 "nbformat": 4,
 "nbformat_minor": 2
}
