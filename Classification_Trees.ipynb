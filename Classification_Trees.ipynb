{
 "cells": [
  {
   "cell_type": "markdown",
   "metadata": {},
   "source": [
    "# Ex_Classification_trees"
   ]
  },
  {
   "cell_type": "markdown",
   "metadata": {},
   "source": [
    "- [Import IKEA Furniture Data-Set](#Import-Ikea-Furniture-Data-Set)\n",
    "- [Create Classification Tree](#Create-Classification-Tree)\n",
    "- [Compute Training Error Rate](#Compute-Training-Error-Rate)\n",
    "- [Split Data](#Split-Data)\n",
    "- [Compute Test Error Rate](#Compute-Test-Error-Rate)\n",
    "- [Notes about Pruning](#Notes-about-Pruning)"
   ]
  },
  {
   "cell_type": "markdown",
   "metadata": {},
   "source": [
    "We are exploring the method of Classification Trees in order to classify the IKEA Furniture Data-Set. One advantage of Trees is, that they can easily handle qualitative variables without the use of dummy variables. Therefor, this method seems to be particularly fitting for the classification problem at hand."
   ]
  },
  {
   "cell_type": "code",
   "execution_count": 1,
   "metadata": {},
   "outputs": [],
   "source": [
    "# Import packages\n",
    "import numpy as np\n",
    "import pandas as pd\n",
    "import pickle\n",
    "import seaborn as sns\n",
    "import graphviz\n",
    "\n",
    "from matplotlib import pyplot as plt\n",
    "from IPython.display import Image, display\n",
    "%matplotlib inline\n",
    "plt.style.use('ggplot')"
   ]
  },
  {
   "cell_type": "code",
   "execution_count": 2,
   "metadata": {},
   "outputs": [],
   "source": [
    "# import tree, confusion_matrix and train_test_split from sklearn library\n",
    "from sklearn import tree\n",
    "from sklearn.metrics import confusion_matrix\n",
    "from sklearn.model_selection import train_test_split"
   ]
  },
  {
   "cell_type": "markdown",
   "metadata": {
    "collapsed": true
   },
   "source": [
    "## Import IKEA Furniture Data-Set"
   ]
  },
  {
   "cell_type": "code",
   "execution_count": 5,
   "metadata": {},
   "outputs": [
    {
     "data": {
      "text/html": [
       "<div>\n",
       "<style scoped>\n",
       "    .dataframe tbody tr th:only-of-type {\n",
       "        vertical-align: middle;\n",
       "    }\n",
       "\n",
       "    .dataframe tbody tr th {\n",
       "        vertical-align: top;\n",
       "    }\n",
       "\n",
       "    .dataframe thead th {\n",
       "        text-align: right;\n",
       "    }\n",
       "</style>\n",
       "<table border=\"1\" class=\"dataframe\">\n",
       "  <thead>\n",
       "    <tr style=\"text-align: right;\">\n",
       "      <th></th>\n",
       "      <th>item_id</th>\n",
       "      <th>name</th>\n",
       "      <th>category</th>\n",
       "      <th>price</th>\n",
       "      <th>old_price</th>\n",
       "      <th>sellable_online</th>\n",
       "      <th>link</th>\n",
       "      <th>other_colors</th>\n",
       "      <th>short_description</th>\n",
       "      <th>designer</th>\n",
       "      <th>...</th>\n",
       "      <th>designer_len</th>\n",
       "      <th>size</th>\n",
       "      <th>unit</th>\n",
       "      <th>size_nounit</th>\n",
       "      <th>depth_median</th>\n",
       "      <th>depth_mean</th>\n",
       "      <th>height_mean</th>\n",
       "      <th>height_median</th>\n",
       "      <th>width_median</th>\n",
       "      <th>width_mean</th>\n",
       "    </tr>\n",
       "  </thead>\n",
       "  <tbody>\n",
       "    <tr>\n",
       "      <th>0</th>\n",
       "      <td>90420332</td>\n",
       "      <td>FREKVENS</td>\n",
       "      <td>Bar furniture</td>\n",
       "      <td>265.0</td>\n",
       "      <td>No old price</td>\n",
       "      <td>True</td>\n",
       "      <td>https://www.ikea.com/sa/en/p/frekvens-bar-tabl...</td>\n",
       "      <td>False</td>\n",
       "      <td>Bar table, in/outdoor</td>\n",
       "      <td>Nicholai Wiig Hansen</td>\n",
       "      <td>...</td>\n",
       "      <td>20</td>\n",
       "      <td>51x51 cm</td>\n",
       "      <td>cm</td>\n",
       "      <td>51x51</td>\n",
       "      <td>47.0</td>\n",
       "      <td>45.725926</td>\n",
       "      <td>97.571429</td>\n",
       "      <td>102.0</td>\n",
       "      <td>48.0</td>\n",
       "      <td>52.07027</td>\n",
       "    </tr>\n",
       "    <tr>\n",
       "      <th>1</th>\n",
       "      <td>368814</td>\n",
       "      <td>NORDVIKEN</td>\n",
       "      <td>Bar furniture</td>\n",
       "      <td>995.0</td>\n",
       "      <td>No old price</td>\n",
       "      <td>False</td>\n",
       "      <td>https://www.ikea.com/sa/en/p/nordviken-bar-tab...</td>\n",
       "      <td>False</td>\n",
       "      <td>Bar table</td>\n",
       "      <td>Francis Cayouette</td>\n",
       "      <td>...</td>\n",
       "      <td>17</td>\n",
       "      <td>140x80 cm</td>\n",
       "      <td>cm</td>\n",
       "      <td>140x80</td>\n",
       "      <td>47.0</td>\n",
       "      <td>45.725926</td>\n",
       "      <td>97.571429</td>\n",
       "      <td>102.0</td>\n",
       "      <td>48.0</td>\n",
       "      <td>52.07027</td>\n",
       "    </tr>\n",
       "    <tr>\n",
       "      <th>2</th>\n",
       "      <td>9333523</td>\n",
       "      <td>NORDVIKEN / NORDVIKEN</td>\n",
       "      <td>Bar furniture</td>\n",
       "      <td>2095.0</td>\n",
       "      <td>No old price</td>\n",
       "      <td>False</td>\n",
       "      <td>https://www.ikea.com/sa/en/p/nordviken-nordvik...</td>\n",
       "      <td>False</td>\n",
       "      <td>Bar table and 4 bar stools</td>\n",
       "      <td>Francis Cayouette</td>\n",
       "      <td>...</td>\n",
       "      <td>17</td>\n",
       "      <td>NaN</td>\n",
       "      <td>NaN</td>\n",
       "      <td>NaN</td>\n",
       "      <td>47.0</td>\n",
       "      <td>45.725926</td>\n",
       "      <td>97.571429</td>\n",
       "      <td>102.0</td>\n",
       "      <td>48.0</td>\n",
       "      <td>52.07027</td>\n",
       "    </tr>\n",
       "    <tr>\n",
       "      <th>3</th>\n",
       "      <td>80155205</td>\n",
       "      <td>STIG</td>\n",
       "      <td>Bar furniture</td>\n",
       "      <td>69.0</td>\n",
       "      <td>No old price</td>\n",
       "      <td>True</td>\n",
       "      <td>https://www.ikea.com/sa/en/p/stig-bar-stool-wi...</td>\n",
       "      <td>True</td>\n",
       "      <td>Bar stool with backrest</td>\n",
       "      <td>Henrik Preutz</td>\n",
       "      <td>...</td>\n",
       "      <td>13</td>\n",
       "      <td>74 cm</td>\n",
       "      <td>cm</td>\n",
       "      <td>74</td>\n",
       "      <td>47.0</td>\n",
       "      <td>45.725926</td>\n",
       "      <td>97.571429</td>\n",
       "      <td>102.0</td>\n",
       "      <td>48.0</td>\n",
       "      <td>52.07027</td>\n",
       "    </tr>\n",
       "  </tbody>\n",
       "</table>\n",
       "<p>4 rows × 23 columns</p>\n",
       "</div>"
      ],
      "text/plain": [
       "    item_id                   name       category   price     old_price  \\\n",
       "0  90420332               FREKVENS  Bar furniture   265.0  No old price   \n",
       "1    368814              NORDVIKEN  Bar furniture   995.0  No old price   \n",
       "2   9333523  NORDVIKEN / NORDVIKEN  Bar furniture  2095.0  No old price   \n",
       "3  80155205                   STIG  Bar furniture    69.0  No old price   \n",
       "\n",
       "   sellable_online                                               link  \\\n",
       "0             True  https://www.ikea.com/sa/en/p/frekvens-bar-tabl...   \n",
       "1            False  https://www.ikea.com/sa/en/p/nordviken-bar-tab...   \n",
       "2            False  https://www.ikea.com/sa/en/p/nordviken-nordvik...   \n",
       "3             True  https://www.ikea.com/sa/en/p/stig-bar-stool-wi...   \n",
       "\n",
       "   other_colors                   short_description              designer  \\\n",
       "0         False               Bar table, in/outdoor  Nicholai Wiig Hansen   \n",
       "1         False                           Bar table     Francis Cayouette   \n",
       "2         False          Bar table and 4 bar stools     Francis Cayouette   \n",
       "3          True             Bar stool with backrest         Henrik Preutz   \n",
       "\n",
       "   ...  designer_len                 size              unit  \\\n",
       "0  ...            20             51x51 cm                cm   \n",
       "1  ...            17            140x80 cm                cm   \n",
       "2  ...            17                  NaN               NaN   \n",
       "3  ...            13                74 cm                cm   \n",
       "\n",
       "         size_nounit depth_median depth_mean height_mean  height_median  \\\n",
       "0             51x51          47.0  45.725926   97.571429          102.0   \n",
       "1            140x80          47.0  45.725926   97.571429          102.0   \n",
       "2                NaN         47.0  45.725926   97.571429          102.0   \n",
       "3                74          47.0  45.725926   97.571429          102.0   \n",
       "\n",
       "   width_median  width_mean  \n",
       "0          48.0    52.07027  \n",
       "1          48.0    52.07027  \n",
       "2          48.0    52.07027  \n",
       "3          48.0    52.07027  \n",
       "\n",
       "[4 rows x 23 columns]"
      ]
     },
     "execution_count": 5,
     "metadata": {},
     "output_type": "execute_result"
    }
   ],
   "source": [
    "with open('Data/IKEA_df.p', 'rb') as df:\n",
    "    IKEA_df = pickle.load(df)\n",
    "\n",
    "IKEA_df.head(4)"
   ]
  },
  {
   "cell_type": "code",
   "execution_count": 11,
   "metadata": {},
   "outputs": [
    {
     "data": {
      "text/html": [
       "<div>\n",
       "<style scoped>\n",
       "    .dataframe tbody tr th:only-of-type {\n",
       "        vertical-align: middle;\n",
       "    }\n",
       "\n",
       "    .dataframe tbody tr th {\n",
       "        vertical-align: top;\n",
       "    }\n",
       "\n",
       "    .dataframe thead th {\n",
       "        text-align: right;\n",
       "    }\n",
       "</style>\n",
       "<table border=\"1\" class=\"dataframe\">\n",
       "  <thead>\n",
       "    <tr style=\"text-align: right;\">\n",
       "      <th></th>\n",
       "      <th>name</th>\n",
       "      <th>category</th>\n",
       "      <th>old_price</th>\n",
       "      <th>sellable_online</th>\n",
       "      <th>other_colors</th>\n",
       "      <th>short_description</th>\n",
       "      <th>designer</th>\n",
       "      <th>depth</th>\n",
       "      <th>height</th>\n",
       "      <th>width</th>\n",
       "      <th>...</th>\n",
       "      <th>size_nounit</th>\n",
       "      <th>depth_median</th>\n",
       "      <th>depth_mean</th>\n",
       "      <th>height_mean</th>\n",
       "      <th>height_median</th>\n",
       "      <th>width_median</th>\n",
       "      <th>width_mean</th>\n",
       "      <th>low_price</th>\n",
       "      <th>high_price</th>\n",
       "      <th>medium_price</th>\n",
       "    </tr>\n",
       "  </thead>\n",
       "  <tbody>\n",
       "    <tr>\n",
       "      <th>0</th>\n",
       "      <td>FREKVENS</td>\n",
       "      <td>Bar furniture</td>\n",
       "      <td>No old price</td>\n",
       "      <td>True</td>\n",
       "      <td>False</td>\n",
       "      <td>Bar table, in/outdoor</td>\n",
       "      <td>Nicholai Wiig Hansen</td>\n",
       "      <td>45.725926</td>\n",
       "      <td>99.000000</td>\n",
       "      <td>51.00000</td>\n",
       "      <td>...</td>\n",
       "      <td>51x51</td>\n",
       "      <td>47.0</td>\n",
       "      <td>45.725926</td>\n",
       "      <td>97.571429</td>\n",
       "      <td>102.0</td>\n",
       "      <td>48.0</td>\n",
       "      <td>52.07027</td>\n",
       "      <td>False</td>\n",
       "      <td>False</td>\n",
       "      <td>True</td>\n",
       "    </tr>\n",
       "    <tr>\n",
       "      <th>1</th>\n",
       "      <td>NORDVIKEN</td>\n",
       "      <td>Bar furniture</td>\n",
       "      <td>No old price</td>\n",
       "      <td>False</td>\n",
       "      <td>False</td>\n",
       "      <td>Bar table</td>\n",
       "      <td>Francis Cayouette</td>\n",
       "      <td>45.725926</td>\n",
       "      <td>105.000000</td>\n",
       "      <td>80.00000</td>\n",
       "      <td>...</td>\n",
       "      <td>140x80</td>\n",
       "      <td>47.0</td>\n",
       "      <td>45.725926</td>\n",
       "      <td>97.571429</td>\n",
       "      <td>102.0</td>\n",
       "      <td>48.0</td>\n",
       "      <td>52.07027</td>\n",
       "      <td>False</td>\n",
       "      <td>False</td>\n",
       "      <td>True</td>\n",
       "    </tr>\n",
       "    <tr>\n",
       "      <th>2</th>\n",
       "      <td>NORDVIKEN / NORDVIKEN</td>\n",
       "      <td>Bar furniture</td>\n",
       "      <td>No old price</td>\n",
       "      <td>False</td>\n",
       "      <td>False</td>\n",
       "      <td>Bar table and 4 bar stools</td>\n",
       "      <td>Francis Cayouette</td>\n",
       "      <td>45.725926</td>\n",
       "      <td>97.571429</td>\n",
       "      <td>52.07027</td>\n",
       "      <td>...</td>\n",
       "      <td>NaN</td>\n",
       "      <td>47.0</td>\n",
       "      <td>45.725926</td>\n",
       "      <td>97.571429</td>\n",
       "      <td>102.0</td>\n",
       "      <td>48.0</td>\n",
       "      <td>52.07027</td>\n",
       "      <td>False</td>\n",
       "      <td>True</td>\n",
       "      <td>False</td>\n",
       "    </tr>\n",
       "  </tbody>\n",
       "</table>\n",
       "<p>3 rows × 23 columns</p>\n",
       "</div>"
      ],
      "text/plain": [
       "                    name       category     old_price  sellable_online  \\\n",
       "0               FREKVENS  Bar furniture  No old price             True   \n",
       "1              NORDVIKEN  Bar furniture  No old price            False   \n",
       "2  NORDVIKEN / NORDVIKEN  Bar furniture  No old price            False   \n",
       "\n",
       "   other_colors                   short_description              designer  \\\n",
       "0         False               Bar table, in/outdoor  Nicholai Wiig Hansen   \n",
       "1         False                           Bar table     Francis Cayouette   \n",
       "2         False          Bar table and 4 bar stools     Francis Cayouette   \n",
       "\n",
       "       depth      height     width  ...        size_nounit depth_median  \\\n",
       "0  45.725926   99.000000  51.00000  ...             51x51          47.0   \n",
       "1  45.725926  105.000000  80.00000  ...            140x80          47.0   \n",
       "2  45.725926   97.571429  52.07027  ...                NaN         47.0   \n",
       "\n",
       "  depth_mean height_mean  height_median  width_median  width_mean  low_price  \\\n",
       "0  45.725926   97.571429          102.0          48.0    52.07027      False   \n",
       "1  45.725926   97.571429          102.0          48.0    52.07027      False   \n",
       "2  45.725926   97.571429          102.0          48.0    52.07027      False   \n",
       "\n",
       "   high_price  medium_price  \n",
       "0       False          True  \n",
       "1       False          True  \n",
       "2        True         False  \n",
       "\n",
       "[3 rows x 23 columns]"
      ]
     },
     "execution_count": 11,
     "metadata": {},
     "output_type": "execute_result"
    },
    {
     "data": {
      "image/png": "[encoded data removed]",
      "text/plain": [
       "<Figure size 432x288 with 1 Axes>"
      ]
     },
     "metadata": {},
     "output_type": "display_data"
    }
   ],
   "source": [
    "## create a new columns classifying the price-category of the furniture\n",
    "# for that, first determine 3 price-categories (low-medium-high) \n",
    "# decided to use Boxplot to determine the 3 price-categories\n",
    "\n",
    "sns.boxplot(IKEA_df['price']) #boxplot with outliers\n",
    "plt.title('Furniture prices with outliers')\n",
    "\n",
    "Q1 = IKEA_df['price'].quantile(0.25)   #first quantile\n",
    "Q3 = IKEA_df['price'].quantile(0.75)   #third quantile\n",
    "IQR = Q1 - Q3      #intermediate quantile range\n",
    "\n",
    "# Remove the outliers (values that are less than Q1 - 1.5 * IQR or greater than Q3 + 1.5 * IQR)\n",
    "#df = df[~((df['price'] < (Q1 - 1.5 * IQR)) | (df['price'] > (Q3 + 1.5 * IQR)))]\n",
    "#sns.boxplot(df['price'])\n",
    "#plt.title('Furniture prices without outliers')\n",
    "#plt.show() \n",
    "\n",
    "# this data is not really needed for now\n",
    "max_price = max(IKEA_df.price) \n",
    "min_price = min(IKEA_df.price)  \n",
    "medium_price = np.mean(IKEA_df.price)\n",
    "median_price = np.median(IKEA_df.price)\n",
    "\n",
    "# add the price-categories to the data-set \n",
    "IKEA_df['low_price'] = IKEA_df.price <= Q1\n",
    "IKEA_df['high_price'] = IKEA_df.price >= Q3\n",
    "IKEA_df['medium_price'] = (IKEA_df.price > Q1) == (IKEA_df.price < Q3)\n",
    "\n",
    "# drop the unnecessary columns -- remember the number of dummies is always one less than the number of levels\n",
    "#TODO: do we have dummies? How do I identify those?\n",
    "#removed 'item_ID' because its individual, same goes for 'link'\n",
    "#removed 'price' because instead high-medium-low-price-segment data is used \n",
    "\n",
    "IKEA_df = IKEA_df.drop(['item_id', 'link', 'price'],axis=1) \n",
    "IKEA_df.head(3)"
   ]
  },
  {
   "cell_type": "markdown",
   "metadata": {},
   "source": [
    "## Create Classification Tree"
   ]
  },
  {
   "cell_type": "code",
   "execution_count": null,
   "metadata": {},
   "outputs": [],
   "source": [
    "clf = tree.DecisionTreeClassifier(min_samples_split=20)\n",
    "\n",
    "# get the predictors\n",
    "# fit a decision tree to predict 'category' from the data. For that, remove 'category' from the predictors\n",
    "predictors = df.columns.tolist()\n",
    "predictors.remove('category')\n",
    "X = df[predictors].values\n",
    "\n",
    "# get the response\n",
    "y = df.category.values.reshape(-1,1)\n",
    "#print(y)\n",
    "\n",
    "\n",
    "# Build classification tree\n",
    "tree_est = clf.fit(float(X), float(y))"
   ]
  },
  {
   "cell_type": "code",
   "execution_count": null,
   "metadata": {},
   "outputs": [],
   "source": [
    "# use sklearn's export to generate the dot-data string file with all the nodes and their props.\n",
    "dot_data = export_graphviz(tree_est, out_file='seat_tree.dot',feature_names=predictors, \n",
    "                class_names=['True', 'False'],filled=True, rounded=True,  \n",
    "                        special_characters=True)\n",
    "\n",
    "with open('seat_tree.dot') as f:\n",
    "    dot_graph = f.read()  \n",
    "\n",
    "# create the source object\n",
    "I = graphviz.Source(dot_graph, format='png', engine='dot')\n",
    "# Use ipython Image to shrink the rendered image of the source obj to fit into jupyter nb.\n",
    "Image(I.render())"
   ]
  },
  {
   "cell_type": "code",
   "execution_count": null,
   "metadata": {},
   "outputs": [],
   "source": [
    "# also show the view of the source object in browser so we can zoom in on nodes and see what we've got\n",
    "I.view()"
   ]
  },
  {
   "cell_type": "markdown",
   "metadata": {},
   "source": [
    "So we see that the initial splitting occurs with ShelveLoc and Price predictors. We can get the variable importance factor (the average Gini Index) for a predictor from sklearn."
   ]
  },
  {
   "cell_type": "code",
   "execution_count": null,
   "metadata": {},
   "outputs": [],
   "source": [
    "feature_importances = tree_est.feature_importances_\n",
    "pd.DataFrame(data=feature_importances, index=predictors, columns = ['Importance']).sort_values(by=['Importance'], \n",
    "                                                                                                ascending=False)"
   ]
  },
  {
   "cell_type": "markdown",
   "metadata": {},
   "source": [
    "## Compute Training Error Rate"
   ]
  },
  {
   "cell_type": "code",
   "execution_count": null,
   "metadata": {},
   "outputs": [],
   "source": [
    "# Lets also get the training error rate of the tree model\n",
    "cmatrix = confusion_matrix(y_true = y, y_pred=tree_est.predict(X), labels=[True, False])\n",
    "print(cmatrix)"
   ]
  },
  {
   "cell_type": "code",
   "execution_count": null,
   "metadata": {},
   "outputs": [],
   "source": [
    "error_rate = (cmatrix[0,1]+cmatrix[1,0])/cmatrix.sum()\n",
    "print(\"Training Error Rate:\", error_rate)"
   ]
  },
  {
   "cell_type": "markdown",
   "metadata": {},
   "source": [
    "## Split Data"
   ]
  },
  {
   "cell_type": "code",
   "execution_count": null,
   "metadata": {},
   "outputs": [],
   "source": [
    "# make a split using 67% of the data for training and the remainder for testing\n",
    "X_train, X_test, y_train, y_test = train_test_split(X, y, test_size=0.33, random_state=0)"
   ]
  },
  {
   "cell_type": "markdown",
   "metadata": {},
   "source": [
    "## Compute Test Error Rate"
   ]
  },
  {
   "cell_type": "code",
   "execution_count": null,
   "metadata": {},
   "outputs": [],
   "source": [
    "# Train the model\n",
    "tree_est = clf.fit(X_train, y_train)\n",
    "# make predictions \n",
    "ypred = tree_est.predict(X_test)\n",
    "\n",
    "cmatrix_test = confusion_matrix(y_true = y_test, y_pred=ypred, labels=[True, False])\n",
    "error_rate = (cmatrix_test[0,1]+cmatrix_test[1,0])/cmatrix_test.sum()\n",
    "print(\"Test Error Rate:\", error_rate)"
   ]
  },
  {
   "cell_type": "markdown",
   "metadata": {},
   "source": [
    "Is this value influenced by the train test split and by the splitting criterion? (Before we used 20 samples as value - we stopped splitting when 20 samples were left -)"
   ]
  },
  {
   "cell_type": "markdown",
   "metadata": {},
   "source": [
    "## Notes about Pruning"
   ]
  },
  {
   "cell_type": "markdown",
   "metadata": {},
   "source": [
    "Pruning for a classification Tree involves selecting a set of subtrees as a function of a penalization factor $\\alpha $ according to the equation $\\sum_{m=1}^{|T|}\\sum_{i: x_i \\in R_m}(y_i-\\hat{y})^2+\\alpha|T|$ and then using CV to find the optimal subtree. Sklearn does not provide any methods in their tree class to accomplish pruning. To implement this, we would need to develop a way to prune the returned tree object from sklearn. Since, pruned trees are not as competitive, in terms of predictive accuracy, with other models we will move on. "
   ]
  }
 ],
 "metadata": {
  "kernelspec": {
   "display_name": "Python 3",
   "language": "python",
   "name": "python3"
  },
  "language_info": {
   "codemirror_mode": {
    "name": "ipython",
    "version": 3
   },
   "file_extension": ".py",
   "mimetype": "text/x-python",
   "name": "python",
   "nbconvert_exporter": "python",
   "pygments_lexer": "ipython3",
   "version": "3.7.6"
  }
 },
 "nbformat": 4,
 "nbformat_minor": 1
}
