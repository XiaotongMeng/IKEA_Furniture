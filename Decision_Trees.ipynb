{
 "cells": [
  {
   "cell_type": "markdown",
   "metadata": {},
   "source": [
    "# Decision-Trees"
   ]
  },
  {
   "cell_type": "markdown",
   "metadata": {},
   "source": [
    "- [Import IKEA Furniture Data-Set](#Import-IKEA-Furniture-Data-Set)\n",
    "- [Create the Decision Tree](#Create-the-Decision-Tree)\n",
    "    - [First Version of the Decision Tree](#First-Version-of-the-Decision-Tree)\n",
    "        - [Visualization](#Visualization)\n",
    "        - [Investigate the Importance of the Individual Features as Predictors](#Investigate-the-Importance-of-the-Individual-Features-as-Predictors)\n",
    "        - [Compute the Training and Test Accuracy](#Compute-the-Training-and-Test-Accuracy)\n",
    "    - [First Improvements of the Decision Tree](#First-Improvements-of-the-Decision-Tree)\n",
    "        - [Visualization](#Visualization)\n",
    "        - [Investigate the Importance of the Individual Features as Predictors](#Investigate-the-Importance-of-the-Individual-Features-as-Predictors)\n",
    "        - [Compute the Training and Test Accuracy](#Compute-the-Training-and-Test-Accuracy)\n",
    "    - [Final Version of the Decision Tree](#Final-Version-of-the-Decision-Tree)\n",
    "        - [Visualization](#Visualization)\n",
    "        - [Investigate the Importance of the Individual Features as Predictors](#Investigate-the-Importance-of-the-Individual-Features-as-Predictors)\n",
    "        - [Compute the Training and Test Accuracy](#Compute-the-Training-and-Test-Accuracy)\n",
    "- [Conclusion](#Conclusion)\n",
    "- [Notes about Pruning](#Notes-about-Pruning)"
   ]
  },
  {
   "cell_type": "code",
   "execution_count": 1,
   "metadata": {},
   "outputs": [],
   "source": [
    "# Import packages\n",
    "import numpy as np\n",
    "import pandas as pd\n",
    "import pickle\n",
    "import seaborn as sns\n",
    "import graphviz\n",
    "\n",
    "from matplotlib import pyplot as plt\n",
    "from IPython.display import Image, display\n",
    "%matplotlib inline\n",
    "plt.style.use('ggplot')"
   ]
  },
  {
   "cell_type": "markdown",
   "metadata": {
    "collapsed": true
   },
   "source": [
    "## Import IKEA Furniture Data-Set"
   ]
  },
  {
   "cell_type": "code",
   "execution_count": 2,
   "metadata": {},
   "outputs": [
    {
     "data": {
      "text/html": [
       "<div>\n",
       "<style scoped>\n",
       "    .dataframe tbody tr th:only-of-type {\n",
       "        vertical-align: middle;\n",
       "    }\n",
       "\n",
       "    .dataframe tbody tr th {\n",
       "        vertical-align: top;\n",
       "    }\n",
       "\n",
       "    .dataframe thead th {\n",
       "        text-align: right;\n",
       "    }\n",
       "</style>\n",
       "<table border=\"1\" class=\"dataframe\">\n",
       "  <thead>\n",
       "    <tr style=\"text-align: right;\">\n",
       "      <th></th>\n",
       "      <th>item_id</th>\n",
       "      <th>name</th>\n",
       "      <th>category</th>\n",
       "      <th>price</th>\n",
       "      <th>old_price</th>\n",
       "      <th>sellable_online</th>\n",
       "      <th>link</th>\n",
       "      <th>other_colors</th>\n",
       "      <th>short_description</th>\n",
       "      <th>designer</th>\n",
       "      <th>...</th>\n",
       "      <th>designer_len</th>\n",
       "      <th>size</th>\n",
       "      <th>unit</th>\n",
       "      <th>size_nounit</th>\n",
       "      <th>depth_median</th>\n",
       "      <th>depth_mean</th>\n",
       "      <th>height_mean</th>\n",
       "      <th>height_median</th>\n",
       "      <th>width_median</th>\n",
       "      <th>width_mean</th>\n",
       "    </tr>\n",
       "  </thead>\n",
       "  <tbody>\n",
       "    <tr>\n",
       "      <th>0</th>\n",
       "      <td>90420332</td>\n",
       "      <td>FREKVENS</td>\n",
       "      <td>Bar furniture</td>\n",
       "      <td>265.0</td>\n",
       "      <td>No old price</td>\n",
       "      <td>True</td>\n",
       "      <td>https://www.ikea.com/sa/en/p/frekvens-bar-tabl...</td>\n",
       "      <td>False</td>\n",
       "      <td>Bar table, in/outdoor</td>\n",
       "      <td>Nicholai Wiig Hansen</td>\n",
       "      <td>...</td>\n",
       "      <td>20</td>\n",
       "      <td>51x51 cm</td>\n",
       "      <td>cm</td>\n",
       "      <td>51x51</td>\n",
       "      <td>47.0</td>\n",
       "      <td>45.725926</td>\n",
       "      <td>97.571429</td>\n",
       "      <td>102.0</td>\n",
       "      <td>48.0</td>\n",
       "      <td>52.07027</td>\n",
       "    </tr>\n",
       "    <tr>\n",
       "      <th>1</th>\n",
       "      <td>368814</td>\n",
       "      <td>NORDVIKEN</td>\n",
       "      <td>Bar furniture</td>\n",
       "      <td>995.0</td>\n",
       "      <td>No old price</td>\n",
       "      <td>False</td>\n",
       "      <td>https://www.ikea.com/sa/en/p/nordviken-bar-tab...</td>\n",
       "      <td>False</td>\n",
       "      <td>Bar table</td>\n",
       "      <td>Francis Cayouette</td>\n",
       "      <td>...</td>\n",
       "      <td>17</td>\n",
       "      <td>140x80 cm</td>\n",
       "      <td>cm</td>\n",
       "      <td>140x80</td>\n",
       "      <td>47.0</td>\n",
       "      <td>45.725926</td>\n",
       "      <td>97.571429</td>\n",
       "      <td>102.0</td>\n",
       "      <td>48.0</td>\n",
       "      <td>52.07027</td>\n",
       "    </tr>\n",
       "    <tr>\n",
       "      <th>2</th>\n",
       "      <td>9333523</td>\n",
       "      <td>NORDVIKEN / NORDVIKEN</td>\n",
       "      <td>Bar furniture</td>\n",
       "      <td>2095.0</td>\n",
       "      <td>No old price</td>\n",
       "      <td>False</td>\n",
       "      <td>https://www.ikea.com/sa/en/p/nordviken-nordvik...</td>\n",
       "      <td>False</td>\n",
       "      <td>Bar table and 4 bar stools</td>\n",
       "      <td>Francis Cayouette</td>\n",
       "      <td>...</td>\n",
       "      <td>17</td>\n",
       "      <td>NaN</td>\n",
       "      <td>NaN</td>\n",
       "      <td>NaN</td>\n",
       "      <td>47.0</td>\n",
       "      <td>45.725926</td>\n",
       "      <td>97.571429</td>\n",
       "      <td>102.0</td>\n",
       "      <td>48.0</td>\n",
       "      <td>52.07027</td>\n",
       "    </tr>\n",
       "    <tr>\n",
       "      <th>3</th>\n",
       "      <td>80155205</td>\n",
       "      <td>STIG</td>\n",
       "      <td>Bar furniture</td>\n",
       "      <td>69.0</td>\n",
       "      <td>No old price</td>\n",
       "      <td>True</td>\n",
       "      <td>https://www.ikea.com/sa/en/p/stig-bar-stool-wi...</td>\n",
       "      <td>True</td>\n",
       "      <td>Bar stool with backrest</td>\n",
       "      <td>Henrik Preutz</td>\n",
       "      <td>...</td>\n",
       "      <td>13</td>\n",
       "      <td>74 cm</td>\n",
       "      <td>cm</td>\n",
       "      <td>74</td>\n",
       "      <td>47.0</td>\n",
       "      <td>45.725926</td>\n",
       "      <td>97.571429</td>\n",
       "      <td>102.0</td>\n",
       "      <td>48.0</td>\n",
       "      <td>52.07027</td>\n",
       "    </tr>\n",
       "  </tbody>\n",
       "</table>\n",
       "<p>4 rows × 23 columns</p>\n",
       "</div>"
      ],
      "text/plain": [
       "    item_id                   name       category   price     old_price  \\\n",
       "0  90420332               FREKVENS  Bar furniture   265.0  No old price   \n",
       "1    368814              NORDVIKEN  Bar furniture   995.0  No old price   \n",
       "2   9333523  NORDVIKEN / NORDVIKEN  Bar furniture  2095.0  No old price   \n",
       "3  80155205                   STIG  Bar furniture    69.0  No old price   \n",
       "\n",
       "   sellable_online                                               link  \\\n",
       "0             True  https://www.ikea.com/sa/en/p/frekvens-bar-tabl...   \n",
       "1            False  https://www.ikea.com/sa/en/p/nordviken-bar-tab...   \n",
       "2            False  https://www.ikea.com/sa/en/p/nordviken-nordvik...   \n",
       "3             True  https://www.ikea.com/sa/en/p/stig-bar-stool-wi...   \n",
       "\n",
       "   other_colors                   short_description              designer  \\\n",
       "0         False               Bar table, in/outdoor  Nicholai Wiig Hansen   \n",
       "1         False                           Bar table     Francis Cayouette   \n",
       "2         False          Bar table and 4 bar stools     Francis Cayouette   \n",
       "3          True             Bar stool with backrest         Henrik Preutz   \n",
       "\n",
       "   ...  designer_len                 size              unit  \\\n",
       "0  ...            20             51x51 cm                cm   \n",
       "1  ...            17            140x80 cm                cm   \n",
       "2  ...            17                  NaN               NaN   \n",
       "3  ...            13                74 cm                cm   \n",
       "\n",
       "         size_nounit depth_median depth_mean height_mean  height_median  \\\n",
       "0             51x51          47.0  45.725926   97.571429          102.0   \n",
       "1            140x80          47.0  45.725926   97.571429          102.0   \n",
       "2                NaN         47.0  45.725926   97.571429          102.0   \n",
       "3                74          47.0  45.725926   97.571429          102.0   \n",
       "\n",
       "   width_median  width_mean  \n",
       "0          48.0    52.07027  \n",
       "1          48.0    52.07027  \n",
       "2          48.0    52.07027  \n",
       "3          48.0    52.07027  \n",
       "\n",
       "[4 rows x 23 columns]"
      ]
     },
     "execution_count": 2,
     "metadata": {},
     "output_type": "execute_result"
    }
   ],
   "source": [
    "# load IKEA_df\n",
    "with open('Data/IKEA_df.p', 'rb') as df:\n",
    "    IKEA_df = pickle.load(df)\n",
    "\n",
    "IKEA_df.head(4)"
   ]
  },
  {
   "cell_type": "code",
   "execution_count": 3,
   "metadata": {},
   "outputs": [],
   "source": [
    "# load learn_df\n",
    "with open('Data/learn_df.p', 'rb') as df:\n",
    "    learn_df = pickle.load(df)"
   ]
  },
  {
   "cell_type": "code",
   "execution_count": 4,
   "metadata": {},
   "outputs": [
    {
     "name": "stdout",
     "output_type": "stream",
     "text": [
      "labels: ['Bar furniture', 'Beds', 'Bookcases & shelving units', 'Cabinets & cupboards', 'Café furniture', 'Chairs', 'Chests of drawers & drawer units', \"Children's furniture\", 'Nursery furniture', 'Outdoor furniture', 'Room dividers', 'Sideboards, buffets & console tables', 'Sofas & armchairs', 'Tables & desks', 'Trolleys', 'TV & media furniture', 'Wardrobes']\n"
     ]
    }
   ],
   "source": [
    "# get labels\n",
    "label = IKEA_df['category'].unique()\n",
    "label = label.tolist()\n",
    "print('labels:', label)"
   ]
  },
  {
   "cell_type": "code",
   "execution_count": 5,
   "metadata": {},
   "outputs": [
    {
     "name": "stdout",
     "output_type": "stream",
     "text": [
      "Overall, there are 9 features.\n"
     ]
    }
   ],
   "source": [
    "# get number of features that can be used as predictors\n",
    "t = learn_df.drop(columns = ['category','category_num']).shape[1]\n",
    "print('Overall, there are '+str(t)+' features.')"
   ]
  },
  {
   "cell_type": "markdown",
   "metadata": {},
   "source": [
    "## Create the Decision Tree\n",
    "We are exploring the method of Classification Trees in order to classify the IKEA Furniture Data-Set. One advantage of Trees is, that they can easily handle qualitative variables without the use of dummy variables. Therefor, this method seems to be particularly fitting for the classification problem at hand."
   ]
  },
  {
   "cell_type": "code",
   "execution_count": 6,
   "metadata": {},
   "outputs": [],
   "source": [
    "# import tree, confusion_matrix, accuracy_score and train_test_split from sklearn library\n",
    "from sklearn import tree\n",
    "from sklearn.metrics import confusion_matrix\n",
    "from sklearn.metrics import accuracy_score\n",
    "from sklearn.model_selection import train_test_split"
   ]
  },
  {
   "cell_type": "markdown",
   "metadata": {},
   "source": [
    "### First Version of the Decision Tree"
   ]
  },
  {
   "cell_type": "code",
   "execution_count": 7,
   "metadata": {},
   "outputs": [],
   "source": [
    "clf = tree.DecisionTreeClassifier(min_samples_split=20)\n",
    "\n",
    "# get the predictors\n",
    "# fit a decision tree to predict 'category' from the data. For that, remove 'category' from the predictors\n",
    "predictors = learn_df.columns.tolist()\n",
    "predictors.remove('category')\n",
    "predictors.remove('category_num')\n",
    "\n",
    "X = learn_df[predictors].values\n",
    "# get the response\n",
    "y = learn_df.category.values.reshape(-1,1)\n",
    "\n",
    "# make a split using 67% of the data for training and the remainder for testing\n",
    "#X_train, X_test, y_train, y_test = train_test_split(X, y, test_size=0.33, random_state=0)\n",
    "# split data in test and training data-set\n",
    "X_train, X_test, y_train, y_test = train_test_split(X, y, random_state=1)\n",
    "\n",
    "# Train the model\n",
    "tree_est = clf.fit(X_train, y_train)\n",
    "\n",
    "# make predictions \n",
    "y_pred = tree_est.predict(X_test)"
   ]
  },
  {
   "cell_type": "markdown",
   "metadata": {},
   "source": [
    "#### Visualization"
   ]
  },
  {
   "cell_type": "code",
   "execution_count": 8,
   "metadata": {},
   "outputs": [
    {
     "data": {
      "text/plain": [
       "'Source.gv.png'"
      ]
     },
     "execution_count": 8,
     "metadata": {},
     "output_type": "execute_result"
    }
   ],
   "source": [
    "# use sklearn's export to generate the dot-data string file with all the nodes and their props.\n",
    "dot_data = tree.export_graphviz(tree_est, out_file='Figures/Decision_Trees/seat_tree_1.dot',feature_names=predictors, \n",
    "                filled=True, rounded=True, special_characters=True)\n",
    "\n",
    "\n",
    "\n",
    "with open('Figures/Decision_Trees/seat_tree_1.dot') as f:\n",
    "    dot_graph = f.read()  \n",
    "\n",
    "# create the source object\n",
    "I = graphviz.Source(dot_graph, format='png', engine='dot')\n",
    "# Use ipython Image to shrink the rendered image of the source obj to fit into jupyter nb.\n",
    "Image(I.render())\n",
    "# also show the view of the source object in browser so we can zoom in on nodes and see what we've got\n",
    "I.view()"
   ]
  },
  {
   "cell_type": "markdown",
   "metadata": {},
   "source": [
    "So we see that the initial splitting occurs with Depth and Height predictors. "
   ]
  },
  {
   "cell_type": "markdown",
   "metadata": {},
   "source": [
    "#### Investigate the Importance of the Individual Features as Predictors\n",
    "This is done by comparing the average Gini Index of the different features. The Gini Index of the different features can be retrieved from sklearn:"
   ]
  },
  {
   "cell_type": "code",
   "execution_count": 9,
   "metadata": {},
   "outputs": [
    {
     "data": {
      "text/html": [
       "<div>\n",
       "<style scoped>\n",
       "    .dataframe tbody tr th:only-of-type {\n",
       "        vertical-align: middle;\n",
       "    }\n",
       "\n",
       "    .dataframe tbody tr th {\n",
       "        vertical-align: top;\n",
       "    }\n",
       "\n",
       "    .dataframe thead th {\n",
       "        text-align: right;\n",
       "    }\n",
       "</style>\n",
       "<table border=\"1\" class=\"dataframe\">\n",
       "  <thead>\n",
       "    <tr style=\"text-align: right;\">\n",
       "      <th></th>\n",
       "      <th>Importance</th>\n",
       "    </tr>\n",
       "  </thead>\n",
       "  <tbody>\n",
       "    <tr>\n",
       "      <th>depth</th>\n",
       "      <td>0.399332</td>\n",
       "    </tr>\n",
       "    <tr>\n",
       "      <th>height</th>\n",
       "      <td>0.282011</td>\n",
       "    </tr>\n",
       "    <tr>\n",
       "      <th>name</th>\n",
       "      <td>0.221227</td>\n",
       "    </tr>\n",
       "    <tr>\n",
       "      <th>price</th>\n",
       "      <td>0.050981</td>\n",
       "    </tr>\n",
       "    <tr>\n",
       "      <th>width</th>\n",
       "      <td>0.022777</td>\n",
       "    </tr>\n",
       "    <tr>\n",
       "      <th>item_id</th>\n",
       "      <td>0.010572</td>\n",
       "    </tr>\n",
       "    <tr>\n",
       "      <th>designer</th>\n",
       "      <td>0.009888</td>\n",
       "    </tr>\n",
       "    <tr>\n",
       "      <th>other_colors</th>\n",
       "      <td>0.003212</td>\n",
       "    </tr>\n",
       "    <tr>\n",
       "      <th>sellable_online</th>\n",
       "      <td>0.000000</td>\n",
       "    </tr>\n",
       "  </tbody>\n",
       "</table>\n",
       "</div>"
      ],
      "text/plain": [
       "                 Importance\n",
       "depth              0.399332\n",
       "height             0.282011\n",
       "name               0.221227\n",
       "price              0.050981\n",
       "width              0.022777\n",
       "item_id            0.010572\n",
       "designer           0.009888\n",
       "other_colors       0.003212\n",
       "sellable_online    0.000000"
      ]
     },
     "execution_count": 9,
     "metadata": {},
     "output_type": "execute_result"
    }
   ],
   "source": [
    "feature_importances = tree_est.feature_importances_\n",
    "pd.DataFrame(data=feature_importances, index=predictors, columns = ['Importance']).sort_values(by=['Importance'], \n",
    "                                                                                                ascending=False)"
   ]
  },
  {
   "cell_type": "markdown",
   "metadata": {},
   "source": [
    "#### Compute the Training and Test Accuracy"
   ]
  },
  {
   "cell_type": "code",
   "execution_count": 10,
   "metadata": {},
   "outputs": [
    {
     "data": {
      "image/png": "[encoded data removed]",
      "text/plain": [
       "<Figure size 720x720 with 2 Axes>"
      ]
     },
     "metadata": {},
     "output_type": "display_data"
    }
   ],
   "source": [
    "# Lets also get the training error rate of the tree model\n",
    "cm = confusion_matrix(y_true = y_test, y_pred=y_pred, labels=label) \n",
    "#print(cm)\n",
    "\n",
    "# number of smaples actually belong to each category\n",
    "cm_sum = cm.sum(axis = 1)\n",
    "\n",
    "cm1 = np.zeros((len(label),len(label)))\n",
    "\n",
    "# confusion matrix divided by  number of samples in test set belongs to each category \n",
    "for k in range(len(label)):\n",
    "    cm1[k,:] = cm[k,:]/cm_sum[k]\n",
    "\n",
    "# confusion_matrix normalized \n",
    "cm_df = pd.DataFrame(cm1,index = label, columns=label)\n",
    "\n",
    "#plot confusion matrix \n",
    "fig, ax = plt.subplots(figsize=(10,10))\n",
    "cmap = sns.diverging_palette(220, 10, as_cmap=True)\n",
    "sns.heatmap(cm_df, annot=True, linewidths=.5,ax=ax,fmt='.2f',cmap = cmap)\n",
    "ax.set_xlabel('Predicted')\n",
    "ax.set_ylabel('Actual')\n",
    "ax.figure.savefig('Figures/Decision_Trees/DT_CM_1.png', bbox_inches = 'tight')"
   ]
  },
  {
   "cell_type": "code",
   "execution_count": 11,
   "metadata": {},
   "outputs": [
    {
     "name": "stdout",
     "output_type": "stream",
     "text": [
      "Model training accuracy: 0.859927797833935\n"
     ]
    }
   ],
   "source": [
    "# determine training accuracy \n",
    "y_pred_train = tree_est.predict(X_train)\n",
    "accuracy_train_1 = accuracy_score(y_train, y_pred_train)\n",
    "print(\"Model training accuracy:\", accuracy_train_1)"
   ]
  },
  {
   "cell_type": "code",
   "execution_count": 12,
   "metadata": {},
   "outputs": [
    {
     "name": "stdout",
     "output_type": "stream",
     "text": [
      "Model test accuracy: 0.7770562770562771\n"
     ]
    }
   ],
   "source": [
    "# determine test accuracy\n",
    "accuracy_test_1 = accuracy_score(y_test, y_pred)\n",
    "print(\"Model test accuracy:\", accuracy_test_1)"
   ]
  },
  {
   "cell_type": "markdown",
   "metadata": {},
   "source": [
    "As assumed when analyzing the given dataset, sellable_online does not have any importance as almost all products are sellable-online. Furthmeore, the Gini Index tells us, that other_colors and item_id have a small significance as well. \n",
    "other_colors ...\n",
    "item_id is almost always individual and only in very view cases, an item_id is listed twice. Thus, this predictor does not have a large importance. \n",
    "In a nex step all features with an importance smaller than 2% are excluded in order to improve the results. "
   ]
  },
  {
   "cell_type": "markdown",
   "metadata": {},
   "source": [
    "### First Improvements of the Decision Tree"
   ]
  },
  {
   "cell_type": "code",
   "execution_count": 13,
   "metadata": {},
   "outputs": [],
   "source": [
    "# adjust the learning-dataframe by removing other_colors and sellable_online from it. \n",
    "# item_id and category are not removed since we need them later on\n",
    "learn1 = ['item_id','name','price','designer','depth','height','width','category','category_num' ]\n",
    "learn_df1 = learn_df[learn1]"
   ]
  },
  {
   "cell_type": "code",
   "execution_count": 14,
   "metadata": {},
   "outputs": [],
   "source": [
    "clf = tree.DecisionTreeClassifier(min_samples_split=20)\n",
    "\n",
    "# get the predictors\n",
    "# fit a decision tree to predict 'category' from the data. \n",
    "# This time, additionally to 'category' and 'category_num' remove 'item_id', 'other_colors' and 'sellable_online' \n",
    "predictors.remove('item_id')\n",
    "predictors.remove('other_colors')\n",
    "predictors.remove('sellable_online')\n",
    "\n",
    "X = learn_df1[predictors].values\n",
    "# get the response\n",
    "y = learn_df1.category.values.reshape(-1,1)\n",
    "\n",
    "# make a split using 67% of the data for training and the remainder for testing\n",
    "# X_train, X_test, y_train, y_test = train_test_split(X, y, test_size=0.33, random_state=0)\n",
    "# split data in test and training data-set\n",
    "X_train, X_test, y_train, y_test = train_test_split(X, y,  random_state=1)\n",
    "\n",
    "# Build classification tree\n",
    "tree_est = clf.fit(X_train, y_train)\n",
    "\n",
    "# make predictions \n",
    "y_pred = tree_est.predict(X_test)"
   ]
  },
  {
   "cell_type": "markdown",
   "metadata": {},
   "source": [
    "#### Visualization of the Decision Tree"
   ]
  },
  {
   "cell_type": "code",
   "execution_count": null,
   "metadata": {},
   "outputs": [],
   "source": [
    "# use sklearn's export to generate the dot-data string file with all the nodes and their props.\n",
    "dot_data = tree.export_graphviz(tree_est, out_file='Figures/Decision_Trees/seat_tree_2.dot',feature_names=predictors, \n",
    "                filled=True, rounded=True, special_characters=True) #class_names=['True', 'False']\n",
    "\n",
    "\n",
    "\n",
    "with open('Figures/Decision_Trees/seat_tree_2.dot') as f:\n",
    "    dot_graph = f.read()  \n",
    "\n",
    "# create the source object\n",
    "I = graphviz.Source(dot_graph, format='png', engine='dot')\n",
    "# Use ipython Image to shrink the rendered image of the source obj to fit into jupyter nb.\n",
    "Image(I.render())\n",
    "# also show the view of the source object in browser so we can zoom in on nodes and see what we've got\n",
    "I.view()"
   ]
  },
  {
   "cell_type": "markdown",
   "metadata": {},
   "source": [
    "#### Investigate the Importance of the Individual Features"
   ]
  },
  {
   "cell_type": "code",
   "execution_count": null,
   "metadata": {},
   "outputs": [],
   "source": [
    "feature_importances = tree_est.feature_importances_\n",
    "pd.DataFrame(data=feature_importances, index=predictors, columns = ['Importance']).sort_values(by=['Importance'], \n",
    "                                                                                                ascending=False)"
   ]
  },
  {
   "cell_type": "markdown",
   "metadata": {},
   "source": [
    "#### Compute the Training and Test Accuracy"
   ]
  },
  {
   "cell_type": "code",
   "execution_count": null,
   "metadata": {},
   "outputs": [],
   "source": [
    "# Lets also get the training error rate of the tree model\n",
    "cm = confusion_matrix(y_true = y_test, y_pred=y_pred, labels=label) \n",
    "#print(cmatrix)\n",
    "\n",
    "# number of smaples actually belong to each category\n",
    "cm_sum = cm.sum(axis = 1)\n",
    "\n",
    "cm1 = np.zeros((len(label),len(label)))\n",
    "\n",
    "# confusion matrix divided by  number of samples in test set belongs to each category \n",
    "for k in range(len(label)):\n",
    "    cm1[k,:] = cm[k,:]/cm_sum[k]\n",
    "\n",
    "# confusion_matrix normalized \n",
    "cm_df = pd.DataFrame(cm1,index = label, columns=label)\n",
    "\n",
    "#plot confusion matrix \n",
    "fig, ax = plt.subplots(figsize=(10,10))\n",
    "cmap = sns.diverging_palette(220, 10, as_cmap=True)\n",
    "sns.heatmap(cm_df, annot=True, linewidths=.5,ax=ax,fmt='.2f',cmap = cmap)\n",
    "ax.set_xlabel('Predicted')\n",
    "ax.set_ylabel('Actual')\n",
    "ax.figure.savefig('Figures/Decision_Trees/DT_CM_2.png', bbox_inches = 'tight')"
   ]
  },
  {
   "cell_type": "code",
   "execution_count": null,
   "metadata": {},
   "outputs": [],
   "source": [
    "# determine training accuracy \n",
    "y_pred_train = tree_est.predict(X_train)\n",
    "accuracy_train_2 = accuracy_score(y_train, y_pred_train)\n",
    "improvement_train = round(((accuracy_train_2-accuracy_train_1)/accuracy_train_2)*100,2)\n",
    "print(\"Model training accuracy:\", accuracy_train_2)\n",
    "if improvement_train >0.0:\n",
    "    print(\"The training accuracy improved by\", improvement_train, '%.')\n",
    "elif improvement_train <0.0:\n",
    "    print(\"The training accuracy deteriorated by\", improvement_train, '%.')\n",
    "elif improvement_train == 0.0:\n",
    "    print(\"No improvement of the training accuracy.\")"
   ]
  },
  {
   "cell_type": "code",
   "execution_count": null,
   "metadata": {},
   "outputs": [],
   "source": [
    "# determine test accuracy\n",
    "accuracy_test_2 = accuracy_score(y_test, y_pred)\n",
    "print(\"Model test accuracy:\", accuracy_test_2)\n",
    "improvement_test = round(((accuracy_test_2-accuracy_test_1)/accuracy_test_2)*100,2)\n",
    "if improvement_test >0.0:\n",
    "    print(\"The test accuracy improved by\", improvement_test, '%.')\n",
    "elif improvement_test <0.0:\n",
    "    print(\"The test accuracy deteriorated by\", improvement_test, '%.')\n",
    "elif improvement_test == 0.0:\n",
    "    print(\"No improvement of the test accuracy.\")"
   ]
  },
  {
   "cell_type": "markdown",
   "metadata": {},
   "source": [
    "#### Replicate the Samples for a Small Sample Size"
   ]
  },
  {
   "cell_type": "markdown",
   "metadata": {},
   "source": [
    "Now we replicate the samples for the following categories: **Room dividers** and **Sideboards, buffets & console tables** to make the multi class classification task to be relatively balanced. This will result in a significant improvement of the performance."
   ]
  },
  {
   "cell_type": "code",
   "execution_count": null,
   "metadata": {},
   "outputs": [],
   "source": [
    "#recall the sample size of each category\n",
    "size_df = learn_df1.groupby('category').size().reset_index(name='size')\n",
    "size_df"
   ]
  },
  {
   "cell_type": "code",
   "execution_count": null,
   "metadata": {},
   "outputs": [],
   "source": [
    "# careful here the order of the labels somehow changed compared to the list 'label' above. The order of TV & median furniture\n",
    "# tables& dsks and trollyes somehow echanged as can be seen below . Thus, we cannot use the list label to display the correct order of \n",
    "# column names in this section.\n",
    "label1 =size_df['category'].tolist()"
   ]
  },
  {
   "cell_type": "code",
   "execution_count": null,
   "metadata": {},
   "outputs": [],
   "source": [
    "if label!=label1:\n",
    "    print('Label does not equal label1. In the following, therefore label1 will be used.')"
   ]
  },
  {
   "cell_type": "code",
   "execution_count": null,
   "metadata": {},
   "outputs": [],
   "source": [
    "label_size = size_df['size'].tolist()\n",
    "label_size"
   ]
  },
  {
   "cell_type": "code",
   "execution_count": null,
   "metadata": {},
   "outputs": [],
   "source": [
    "learn_df2 = learn_df1.copy(deep=True)"
   ]
  },
  {
   "cell_type": "code",
   "execution_count": null,
   "metadata": {},
   "outputs": [],
   "source": [
    "# using label1 instead of label !!!!!\n",
    "#print(learn_df2.shape[0])\n",
    "for k in range(len(label1)):\n",
    "    temp_df = learn_df1[learn_df1['category'].str.contains(label1[k])] \n",
    "    #print('original size' + str(temp_df.shape[0]))\n",
    "    #print('label_size' +str(label_size[k]))\n",
    "    tt = round(max(label_size)/label_size[k]) -1\n",
    "    #print('to replicate' + str(tt))\n",
    "    if tt > 0:\n",
    "        temp_df1 = pd.concat([temp_df]*tt, ignore_index=True)\n",
    "        #print('df_repl size' +str(temp_df1.shape[0]))\n",
    "        learn_df2 = pd.concat([learn_df2, temp_df1] , ignore_index=True)\n",
    "        #print(learn_df2.shape[0])"
   ]
  },
  {
   "cell_type": "code",
   "execution_count": null,
   "metadata": {},
   "outputs": [],
   "source": [
    "# old dataset imbalanced\n",
    "size_df"
   ]
  },
  {
   "cell_type": "code",
   "execution_count": null,
   "metadata": {},
   "outputs": [],
   "source": [
    "#new relative balanced data set with duplicated samples\n",
    "size_df2 = learn_df2.groupby('category').size().reset_index(name='size')\n",
    "size_df2"
   ]
  },
  {
   "cell_type": "markdown",
   "metadata": {},
   "source": [
    "Now the data set has been modified to be a relative balanced ones , although there are now too many duplicated samples for category, which had too few samples before."
   ]
  },
  {
   "cell_type": "markdown",
   "metadata": {},
   "source": [
    "### Final Version of the Decision Tree"
   ]
  },
  {
   "cell_type": "code",
   "execution_count": null,
   "metadata": {},
   "outputs": [],
   "source": [
    "clf = tree.DecisionTreeClassifier(min_samples_split=20)\n",
    "\n",
    "X = learn_df2[predictors].values\n",
    "\n",
    "# get the response\n",
    "y = learn_df2.category.values.reshape(-1,1)\n",
    "\n",
    "\n",
    "# split data in test and training data-set\n",
    "X_train, X_test, y_train, y_test = train_test_split(X, y,  random_state=1)#test_size=0.33\n",
    "\n",
    "\n",
    "# Build classification tree\n",
    "tree_est = clf.fit(X_train, y_train)\n",
    "\n",
    "# make predictions \n",
    "y_pred = tree_est.predict(X_test)"
   ]
  },
  {
   "cell_type": "markdown",
   "metadata": {},
   "source": [
    "#### Visualization of the Decision Tree"
   ]
  },
  {
   "cell_type": "code",
   "execution_count": null,
   "metadata": {},
   "outputs": [],
   "source": [
    "# use sklearn's export to generate the dot-data string file with all the nodes and their props.\n",
    "#dot_data = tree.export_graphviz(tree_est, out_file='Figures/Decision_Trees/seat_tree_3.dot',feature_names=predictors, \n",
    "#                filled=True, rounded=True, special_characters=True) #class_names=['True', 'False']\n",
    "\n",
    "\n",
    "\n",
    "#with open('Figures/Decision_Trees/seat_tree_3.dot') as f:\n",
    "#    dot_graph = f.read()  \n",
    "\n",
    "# create the source object\n",
    "#I = graphviz.Source(dot_graph, format='png', engine='dot')\n",
    "# Use ipython Image to shrink the rendered image of the source obj to fit into jupyter nb.\n",
    "#Image(I.render())\n",
    "# also show the view of the source object in browser so we can zoom in on nodes and see what we've got\n",
    "#I.view()"
   ]
  },
  {
   "cell_type": "markdown",
   "metadata": {},
   "source": [
    "#### Investigate the Importance of the Individual Features as Predictors"
   ]
  },
  {
   "cell_type": "code",
   "execution_count": null,
   "metadata": {},
   "outputs": [],
   "source": [
    "#print(predictors)\n",
    "#print(feature_importances)\n",
    "feature_importances = tree_est.feature_importances_\n",
    "feature_importances = pd.DataFrame(data=feature_importances, index=predictors, columns = ['Importance']).sort_values(by=['Importance'], \n",
    "                                                                                                ascending=False)\n",
    "feature_importances"
   ]
  },
  {
   "cell_type": "code",
   "execution_count": null,
   "metadata": {},
   "outputs": [],
   "source": [
    "figip,axip = plt.subplots(1,1, figsize=(8,6))\n",
    "feature_importances.plot(kind='barh', ax=axip)\n",
    "axip.set_xlabel('Importance')\n",
    "axip.set_ylabel('Feature')\n",
    "axip.set_title('Feature importance')"
   ]
  },
  {
   "cell_type": "markdown",
   "metadata": {},
   "source": [
    "#### Compute the Training and Test Accuracy"
   ]
  },
  {
   "cell_type": "code",
   "execution_count": null,
   "metadata": {},
   "outputs": [],
   "source": [
    "# get the confusion_matrix for the test dataset\n",
    "cm = confusion_matrix(y_true = y_test, y_pred=y_pred, labels=label1) \n",
    "#print(cmatrix)\n",
    "\n",
    "# number of smaples actually belong to each category\n",
    "cm_sum = cm.sum(axis = 1)\n",
    "\n",
    "cm1 = np.zeros((len(label1),len(label1)))\n",
    "\n",
    "# confusion matrix divided by  number of samples in test set belongs to each category \n",
    "for k in range(len(label)):\n",
    "    cm1[k,:] = cm[k,:]/cm_sum[k]\n",
    "\n",
    "# confusion_matrix normalized \n",
    "cm_df = pd.DataFrame(cm1,index = label1, columns=label1)\n",
    "\n",
    "# plot confusion matrix \n",
    "fig, ax = plt.subplots(figsize=(10,10))\n",
    "cmap = sns.diverging_palette(220, 10, as_cmap=True)\n",
    "sns.heatmap(cm_df, annot=True, linewidths=.5,ax=ax,fmt='.2f',cmap = cmap)\n",
    "ax.set_xlabel('Predicted')\n",
    "ax.set_ylabel('Actual')\n",
    "ax.figure.savefig('Figures/Decision_Trees/DT_CM_3.png', bbox_inches = 'tight')"
   ]
  },
  {
   "cell_type": "markdown",
   "metadata": {},
   "source": [
    "Auswertung fehlt noch"
   ]
  },
  {
   "cell_type": "code",
   "execution_count": null,
   "metadata": {},
   "outputs": [],
   "source": [
    "# calculate the training accuracy \n",
    "y_pred_train = tree_est.predict(X_train)\n",
    "accuracy_train_3 = accuracy_score(y_train, y_pred_train)\n",
    "improvement_train = round(((accuracy_train_3-accuracy_train_2)/accuracy_train_3)*100,2)\n",
    "print(\"Model training accuracy:\", accuracy_train_3)\n",
    "if improvement_train >0.0:\n",
    "    print(\"The training accuracy improved by\", improvement_train, '%.')\n",
    "elif improvement_train <0.0:\n",
    "    print(\"The training accuracy deteriorated by\", improvement_train, '%.')\n",
    "elif improvement_train == 0.0:\n",
    "    print(\"No improvement of the training accuracy.\")"
   ]
  },
  {
   "cell_type": "code",
   "execution_count": null,
   "metadata": {},
   "outputs": [],
   "source": [
    "# calculate the test accuracy\n",
    "accuracy_test_3 = accuracy_score(y_test, y_pred)\n",
    "print(\"Model test accuracy:\", accuracy_test_3)\n",
    "improvement_test = round(((accuracy_test_3-accuracy_test_2)/accuracy_test_3)*100,2)\n",
    "if improvement_test >0.0:\n",
    "    print(\"The test accuracy improved by\", improvement_test, '%.')\n",
    "elif improvement_test <0.0:\n",
    "    print(\"The test accuracy deteriorated by\", improvement_test, '%.')\n",
    "elif improvement_test == 0.0:\n",
    "    print(\"No improvement of the test accuracy.\")"
   ]
  },
  {
   "cell_type": "markdown",
   "metadata": {},
   "source": [
    "Is this value influenced by the train test split and by the splitting criterion? (Before we used 20 samples as value - we stopped splitting when 20 samples were left -)"
   ]
  },
  {
   "cell_type": "markdown",
   "metadata": {},
   "source": [
    "Now we try out different parameter settings to see if we can get better predictions. After trail and error we keep the following parameter sets to show the impact of those parameters. Best minimum samples in leaf is 1 (we set 5 before), if increase the size the overall predictions accuracy goes down. Normally the acurracy increase with the size of forest until reaching certain threshold and the accuracy become stable. In total those parameters just influence the overall acuracy less than 0.01, and the best overall accuracy witih random forest is about 90.27% for minimum_samples_leaf =1, n_tree = 400. Here we won't check the single confusion matrix, since the dataset is now balanced w.r.t sample size of each category."
   ]
  },
  {
   "cell_type": "markdown",
   "metadata": {},
   "source": [
    "## Conclusion"
   ]
  },
  {
   "cell_type": "markdown",
   "metadata": {},
   "source": [
    "## Notes about Pruning"
   ]
  },
  {
   "cell_type": "markdown",
   "metadata": {},
   "source": [
    "Pruning for a classification Tree involves selecting a set of subtrees as a function of a penalization factor $\\alpha $ according to the equation $\\sum_{m=1}^{|T|}\\sum_{i: x_i \\in R_m}(y_i-\\hat{y})^2+\\alpha|T|$ and then using CV to find the optimal subtree. Sklearn does not provide any methods in their tree class to accomplish pruning. To implement this, we would need to develop a way to prune the returned tree object from sklearn. Since, pruned trees are not as competitive, in terms of predictive accuracy, with other models we will move on. "
   ]
  }
 ],
 "metadata": {
  "kernelspec": {
   "display_name": "Python 3",
   "language": "python",
   "name": "python3"
  },
  "language_info": {
   "codemirror_mode": {
    "name": "ipython",
    "version": 3
   },
   "file_extension": ".py",
   "mimetype": "text/x-python",
   "name": "python",
   "nbconvert_exporter": "python",
   "pygments_lexer": "ipython3",
   "version": "3.7.6"
  }
 },
 "nbformat": 4,
 "nbformat_minor": 1
}
