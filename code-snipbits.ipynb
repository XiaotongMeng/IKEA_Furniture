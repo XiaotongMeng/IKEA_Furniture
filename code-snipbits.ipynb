{
 "cells": [
  {
   "cell_type": "code",
   "execution_count": null,
   "metadata": {},
   "outputs": [],
   "source": [
    "## in the following 3 price-segments in order to ensure a better predictability later on\n",
    "# the 3 price-segments are low-, medium-, and high-price \n",
    "# use Boxplot to determine the limits of the 3 price-categories\n",
    "\n",
    "sns.boxplot(IKEA_df['price']) #boxplot with outliers\n",
    "plt.title('Furniture prices with outliers')\n",
    "\n",
    "Q1 = IKEA_df['price'].quantile(0.25)   #first quantile\n",
    "Q3 = IKEA_df['price'].quantile(0.75)   #third quantile\n",
    "IQR = Q1 - Q3                          #intermediate quantile range\n",
    "\n",
    "\n",
    "# this data is not really needed for now\n",
    "max_price = max(IKEA_df.price) \n",
    "min_price = min(IKEA_df.price)  \n",
    "medium_price = np.mean(IKEA_df.price)\n",
    "median_price = np.median(IKEA_df.price)\n",
    "\n",
    "# add the price-categories to the data-set \n",
    "IKEA_df['low_price'] = IKEA_df.price <= Q1\n",
    "IKEA_df['high_price'] = IKEA_df.price >= Q3\n",
    "IKEA_df['medium_price'] = (IKEA_df.price > Q1) == (IKEA_df.price < Q3)\n",
    "\n",
    "IKEA_df.head(4)"
   ]
  }
 ],
 "metadata": {
  "kernelspec": {
   "display_name": "Python 3",
   "language": "python",
   "name": "python3"
  },
  "language_info": {
   "codemirror_mode": {
    "name": "ipython",
    "version": 3
   },
   "file_extension": ".py",
   "mimetype": "text/x-python",
   "name": "python",
   "nbconvert_exporter": "python",
   "pygments_lexer": "ipython3",
   "version": "3.7.6"
  }
 },
 "nbformat": 4,
 "nbformat_minor": 4
}
